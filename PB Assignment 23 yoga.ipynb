{
 "cells": [
  {
   "cell_type": "code",
   "execution_count": null,
   "id": "166afa50",
   "metadata": {},
   "outputs": [],
   "source": [
    "\n",
    "1. What is the result of the code, and why?\n",
    "def func(a, b=6, c=8): print(a, b, c) func(1, 2) \n",
    "Ans- This funtion is taking a positional argument and 2 keyward argument. \n",
    "When function call m=is made, parameter passed are a=1,b=2. \n",
    "When the function is executed , parameter c=8 will be taken by default as its a keyword argument. solurion is = 1,2,8"
   ]
  },
  {
   "cell_type": "code",
   "execution_count": 1,
   "id": "6c10c6d6",
   "metadata": {},
   "outputs": [
    {
     "name": "stdout",
     "output_type": "stream",
     "text": [
      "1 2 8\n"
     ]
    }
   ],
   "source": [
    "def func(a, b=6, c=8):\n",
    "    print(a, b, c)\n",
    "func(1, 2)"
   ]
  },
  {
   "cell_type": "code",
   "execution_count": null,
   "id": "1c60f6f1",
   "metadata": {},
   "outputs": [],
   "source": [
    "2. What is the result of this code, and why?\n",
    "def func(a, b, c=5): print(a, b, c) func(1, c=3, b=2) \n",
    "Ans- When we make function call, order will be positional argument and then keywords arguments. \n",
    "we can pass the keyword arguments in any order we want. Solution is 1,2,3\n"
   ]
  },
  {
   "cell_type": "code",
   "execution_count": 2,
   "id": "e0972791",
   "metadata": {},
   "outputs": [
    {
     "name": "stdout",
     "output_type": "stream",
     "text": [
      "1 2 3\n"
     ]
    }
   ],
   "source": [
    "def func(a, b, c=5):\n",
    "    print(a, b, c)\n",
    "func(1, c=3, b=2)"
   ]
  },
  {
   "cell_type": "code",
   "execution_count": null,
   "id": "ca2df04d",
   "metadata": {},
   "outputs": [],
   "source": [
    "3. How about this code: what is its result, and why?\n",
    "def func(a, pargs): print(a, pargs) func(1, 2, 3)\n",
    "Ans- The return type of args parameter is tuple, where as **kargs will be dictionary solution is = 1,(2,3)\n"
   ]
  },
  {
   "cell_type": "code",
   "execution_count": 3,
   "id": "72985c95",
   "metadata": {},
   "outputs": [
    {
     "name": "stdout",
     "output_type": "stream",
     "text": [
      "1 (2, 3)\n"
     ]
    }
   ],
   "source": [
    "def func(a, *pargs):\n",
    "    print(a, pargs)\n",
    "func(1, 2, 3)\n"
   ]
  },
  {
   "cell_type": "code",
   "execution_count": null,
   "id": "46a3f44c",
   "metadata": {},
   "outputs": [],
   "source": [
    "4. What does this code print, and why?\n",
    "def func(a, kargs): print(a, kargs) func(a=1, c=3, b=2) \n",
    "Ans- The return type of kargs is dictionary solution is = 1,{'c':3,'b':2}"
   ]
  },
  {
   "cell_type": "code",
   "execution_count": 4,
   "id": "a2420878",
   "metadata": {},
   "outputs": [
    {
     "name": "stdout",
     "output_type": "stream",
     "text": [
      "1 {'c': 3, 'b': 2}\n"
     ]
    }
   ],
   "source": [
    "def func(a, **kargs):\n",
    "    print(a, kargs)\n",
    "func(a=1, c=3, b=2)"
   ]
  },
  {
   "cell_type": "code",
   "execution_count": null,
   "id": "72f11cba",
   "metadata": {},
   "outputs": [],
   "source": [
    "5. What gets printed by this, and explain?\n",
    "def func(a, b, c=8, d=5): print(a, b, c, d) func(1, (5, 6)) \n",
    "Ans- '' is the unpacking operator and are operators that unpack the values from iterable objects in Python. The single asterisk operator can be used on any iterable that Python provides, while the double asterisk operator ** can only be used on dictionaries. In the example the value (5,6) will be unpacked and will be assigned to b and c and passed as arguments, d =5 will taken by defaults are keyword arguments."
   ]
  },
  {
   "cell_type": "code",
   "execution_count": 5,
   "id": "7e8864bb",
   "metadata": {},
   "outputs": [
    {
     "name": "stdout",
     "output_type": "stream",
     "text": [
      "1 5 6 5\n"
     ]
    }
   ],
   "source": [
    ">>> def func(a, b, c=8, d=5):\n",
    "    print(a, b, c, d)\n",
    ">>> func(1, *(5, 6))"
   ]
  },
  {
   "cell_type": "code",
   "execution_count": null,
   "id": "856b4e48",
   "metadata": {},
   "outputs": [],
   "source": [
    "6. what is the result of this, and explain?\n",
    "def func(a, b, c): a = 2; b[0] = 'x'; c['a'] = 'y' l=1; m=[1]; n={'a':0} func(l, m, n) \n",
    "Ans- Here in the code, the list and dict are passed as argument, and those are mutable. Here the list l and parametr b point to the same list in the memeory location where as dict n and c point to the same memory location. Any updates to this list will update in the memory location\n",
    "\n",
    "l = 1 , integer values, immutable, m is list, mutable, n is dict, mutable. output will be = 1,['x'],{'a':'y'}\n"
   ]
  },
  {
   "cell_type": "code",
   "execution_count": 6,
   "id": "aef73eb6",
   "metadata": {},
   "outputs": [],
   "source": [
    "def func(a, b, c):\n",
    "    a = 2; \n",
    "    b[0] = 'x';\n",
    "    c['a'] = 'y'\n",
    "l=1;\n",
    "m=[1]; \n",
    "n={'a':0}\n",
    "func(l, m, n)"
   ]
  },
  {
   "cell_type": "code",
   "execution_count": null,
   "id": "9ef5e81b",
   "metadata": {},
   "outputs": [],
   "source": []
  },
  {
   "cell_type": "code",
   "execution_count": null,
   "id": "2f55ff22",
   "metadata": {},
   "outputs": [],
   "source": []
  },
  {
   "cell_type": "code",
   "execution_count": null,
   "id": "13e95071",
   "metadata": {},
   "outputs": [],
   "source": []
  }
 ],
 "metadata": {
  "kernelspec": {
   "display_name": "Python 3 (ipykernel)",
   "language": "python",
   "name": "python3"
  },
  "language_info": {
   "codemirror_mode": {
    "name": "ipython",
    "version": 3
   },
   "file_extension": ".py",
   "mimetype": "text/x-python",
   "name": "python",
   "nbconvert_exporter": "python",
   "pygments_lexer": "ipython3",
   "version": "3.9.7"
  }
 },
 "nbformat": 4,
 "nbformat_minor": 5
}
