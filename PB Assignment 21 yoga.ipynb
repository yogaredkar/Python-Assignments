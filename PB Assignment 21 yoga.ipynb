{
 "cells": [
  {
   "cell_type": "code",
   "execution_count": null,
   "id": "2cd51472",
   "metadata": {},
   "outputs": [],
   "source": [
    "1. Add the current date to the text file today.txt as a string."
   ]
  },
  {
   "cell_type": "code",
   "execution_count": null,
   "id": "9022a00e",
   "metadata": {},
   "outputs": [],
   "source": [
    "from datetime import date\n",
    "today=date.today()\n",
    "cur_date = today.isoformat()\n",
    "cur_date\n",
    "with open('today.txt','w') as file:\n",
    "    file.write(cur_date)"
   ]
  },
  {
   "cell_type": "code",
   "execution_count": null,
   "id": "0ad0ddf3",
   "metadata": {},
   "outputs": [],
   "source": [
    "2. Read the text file today.txt into the string today_string\n"
   ]
  },
  {
   "cell_type": "code",
   "execution_count": null,
   "id": "8f68fc52",
   "metadata": {},
   "outputs": [],
   "source": [
    "with open('today.txt', 'r') as file:\n",
    "    today_string = file.read()\n",
    "print(today_string)"
   ]
  },
  {
   "cell_type": "code",
   "execution_count": null,
   "id": "51eacf05",
   "metadata": {},
   "outputs": [],
   "source": [
    "3. Parse the date from today_string."
   ]
  },
  {
   "cell_type": "code",
   "execution_count": null,
   "id": "51e43e72",
   "metadata": {},
   "outputs": [],
   "source": [
    "from datetime import datetime\n",
    "format = '%Y-%m-%d'\n",
    "datetime.strptime(today_string,format)"
   ]
  },
  {
   "cell_type": "code",
   "execution_count": null,
   "id": "26c54bdf",
   "metadata": {},
   "outputs": [],
   "source": [
    "5. Create a list of all of the files in your parent directory (minimum five files should be available)."
   ]
  },
  {
   "cell_type": "code",
   "execution_count": null,
   "id": "dc8903e7",
   "metadata": {},
   "outputs": [],
   "source": [
    "os.listdir('..')"
   ]
  },
  {
   "cell_type": "code",
   "execution_count": null,
   "id": "a400d68c",
   "metadata": {},
   "outputs": [],
   "source": [
    "6. Use multiprocessing to create three separate processes. Make each one wait a random number of\n",
    "seconds between one and five, print the current time, and then exit."
   ]
  },
  {
   "cell_type": "code",
   "execution_count": null,
   "id": "a45c3531",
   "metadata": {},
   "outputs": [],
   "source": [
    "import multiprocessing\n",
    "\n",
    "def printsec(seconds):\n",
    "    from datetime import datetime\n",
    "    from time import sleep\n",
    "    sleep(seconds)\n",
    "    print('wait', seconds, 'seconds, time is', datetime.utcnow())\n",
    "    \n",
    "if __name__ == '__main__':\n",
    "    import random    \n",
    "    for n in range(3):\n",
    "        seconds = random.random()\n",
    "        proc = multiprocessing.Process(target=printsec, args=(seconds,))\n",
    "        proc.start()\n"
   ]
  },
  {
   "cell_type": "code",
   "execution_count": null,
   "id": "728d5c23",
   "metadata": {},
   "outputs": [],
   "source": [
    "!multi.py"
   ]
  },
  {
   "cell_type": "code",
   "execution_count": null,
   "id": "430264f5",
   "metadata": {},
   "outputs": [],
   "source": [
    "wait 0.25700114370511584 seconds, time is 2021-05-04 11:11:22.606700\n",
    "wait 0.6398316226840549 seconds, time is 2021-05-04 11:11:22.978403\n",
    "wait 0.7806718758267396 seconds, time is 2021-05-04 11:11:23.119607"
   ]
  },
  {
   "cell_type": "code",
   "execution_count": null,
   "id": "39bdcc62",
   "metadata": {},
   "outputs": [],
   "source": [
    "7. Create a date object of your day of birth."
   ]
  },
  {
   "cell_type": "code",
   "execution_count": null,
   "id": "f7d2a1f5",
   "metadata": {},
   "outputs": [],
   "source": [
    "from datetime import date\n",
    "date_of_birth = date(1998,8,16)\n",
    "date_of_birth"
   ]
  },
  {
   "cell_type": "code",
   "execution_count": null,
   "id": "f37b8ad5",
   "metadata": {},
   "outputs": [],
   "source": [
    "8. What day of the week was your day of birth?"
   ]
  },
  {
   "cell_type": "code",
   "execution_count": null,
   "id": "cb215a04",
   "metadata": {},
   "outputs": [],
   "source": [
    "date_of_birth.weekday()"
   ]
  },
  {
   "cell_type": "code",
   "execution_count": null,
   "id": "05c1b110",
   "metadata": {},
   "outputs": [],
   "source": [
    "9. When will you be (or when were you) 10,000 days old?\n"
   ]
  },
  {
   "cell_type": "code",
   "execution_count": null,
   "id": "a5fb67ef",
   "metadata": {},
   "outputs": [],
   "source": [
    "from datetime import timedelta\n",
    "day10000 = date_of_birth + timedelta(days=10000)\n",
    "day10000"
   ]
  },
  {
   "cell_type": "code",
   "execution_count": null,
   "id": "43ee6d93",
   "metadata": {},
   "outputs": [],
   "source": [
    "datetime.date(2026, 1, 1)"
   ]
  },
  {
   "cell_type": "code",
   "execution_count": null,
   "id": "8376a73a",
   "metadata": {},
   "outputs": [],
   "source": []
  },
  {
   "cell_type": "code",
   "execution_count": null,
   "id": "d36c0993",
   "metadata": {},
   "outputs": [],
   "source": []
  }
 ],
 "metadata": {
  "kernelspec": {
   "display_name": "Python 3 (ipykernel)",
   "language": "python",
   "name": "python3"
  },
  "language_info": {
   "codemirror_mode": {
    "name": "ipython",
    "version": 3
   },
   "file_extension": ".py",
   "mimetype": "text/x-python",
   "name": "python",
   "nbconvert_exporter": "python",
   "pygments_lexer": "ipython3",
   "version": "3.9.7"
  }
 },
 "nbformat": 4,
 "nbformat_minor": 5
}
