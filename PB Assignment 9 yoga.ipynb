{
 "cells": [
  {
   "cell_type": "code",
   "execution_count": null,
   "id": "c778e516",
   "metadata": {},
   "outputs": [],
   "source": [
    "1. To what does a relative path refer?\n",
    "Ans. Relative Path is the hierarchical path that locates a file or folder on a file system \n",
    "starting from the current directory. The relative path is different from the absolute path, \n",
    " which locates the file or folder starting from the root of the file system."
   ]
  },
  {
   "cell_type": "code",
   "execution_count": null,
   "id": "6fcf05b6",
   "metadata": {},
   "outputs": [],
   "source": [
    "2. What does an absolute path start with your operating system?\n",
    "Ans- An absolute path refers to the complete details needed to locate a file or folder, starting from the root \n",
    "element and ending with the other subdirectories. Absolute paths are used in websites and operating systems for \n",
    "locating files and folders. An absolute path is also known as an absolute pathname or full path."
   ]
  },
  {
   "cell_type": "code",
   "execution_count": null,
   "id": "9d87fa55",
   "metadata": {},
   "outputs": [],
   "source": [
    "3. What do the functions os.getcwd() and os.chdir() do?\n",
    "Ans- \"os.getcwd()\" is used to get present working directory.\"os.chdir()\" is used to change dir()."
   ]
  },
  {
   "cell_type": "code",
   "execution_count": null,
   "id": "2abf3f8d",
   "metadata": {},
   "outputs": [],
   "source": [
    "4. What are the . and .. folders?\n",
    "Ans- A folder is a storage space, or container, where many files can be placed into groups and organize the computer. \n",
    " A folder can also contain other folders. "
   ]
  },
  {
   "cell_type": "code",
   "execution_count": null,
   "id": "0fa514fc",
   "metadata": {},
   "outputs": [],
   "source": [
    "5. In C:\\bacon\\eggs\\spam.txt, which part is the dir name, and which part is the base name?\n",
    "Ans- \"C:\\bacon\\eggs\" is the dir name, while \"spam.txt\" is the base name."
   ]
  },
  {
   "cell_type": "code",
   "execution_count": null,
   "id": "4fb124d0",
   "metadata": {},
   "outputs": [],
   "source": [
    "6. What are the three “mode” arguments that can be passed to the open() function?\n",
    "Ans- The Three modes are:\n",
    "  1. string 'r' for read mode\n",
    "  2. string 'w' for write mode\n",
    "  3. string 'a' for append mode"
   ]
  },
  {
   "cell_type": "code",
   "execution_count": null,
   "id": "2f623f9e",
   "metadata": {},
   "outputs": [],
   "source": [
    "7. What happens if an existing file is opened in write mode?\n",
    "Ans- Opening a file in 'write' mode truncates the existing data in the file."
   ]
  },
  {
   "cell_type": "code",
   "execution_count": null,
   "id": "5b3e3a43",
   "metadata": {},
   "outputs": [],
   "source": [
    "8. How do you tell the difference between read() and readlines()?\n",
    "Ans-  The 'read()' method returns the file's entire contents as a single string value. The 'readlines()' method returns \n",
    " a list of strings, where each string is a line from the file's contents."
   ]
  },
  {
   "cell_type": "code",
   "execution_count": 2,
   "id": "5a99fe9b",
   "metadata": {},
   "outputs": [],
   "source": [
    "f=open('test_f1.txt','a+')\n",
    "f.write('Hello brother\\n')\n",
    "f.write('Hello brother\\n')\n",
    "f.write('Hello brother\\n')\n",
    "f.write('Hello brother\\n')\n",
    "f.close()\n",
    "f=open('test_f1.txt','r')"
   ]
  },
  {
   "cell_type": "code",
   "execution_count": 3,
   "id": "0880928e",
   "metadata": {},
   "outputs": [
    {
     "data": {
      "text/plain": [
       "'Hello brother\\nHello brother\\nHello brother\\nHello brother\\n'"
      ]
     },
     "execution_count": 3,
     "metadata": {},
     "output_type": "execute_result"
    }
   ],
   "source": [
    "f.seek(0)\n",
    "f.read()"
   ]
  },
  {
   "cell_type": "code",
   "execution_count": 4,
   "id": "fffff94d",
   "metadata": {},
   "outputs": [
    {
     "data": {
      "text/plain": [
       "['Hello brother\\n', 'Hello brother\\n', 'Hello brother\\n', 'Hello brother\\n']"
      ]
     },
     "execution_count": 4,
     "metadata": {},
     "output_type": "execute_result"
    }
   ],
   "source": [
    "f.seek(0)\n",
    "f.readlines()"
   ]
  },
  {
   "cell_type": "code",
   "execution_count": null,
   "id": "865c1ae6",
   "metadata": {},
   "outputs": [],
   "source": [
    "9. What data structure does a shelf value resemble?\n",
    "Ans-  shelf value resembles a dictionary value. It has keys and values. It also has methods that work similarly \n",
    " to the dictionary methods of the same names. "
   ]
  }
 ],
 "metadata": {
  "kernelspec": {
   "display_name": "Python 3 (ipykernel)",
   "language": "python",
   "name": "python3"
  },
  "language_info": {
   "codemirror_mode": {
    "name": "ipython",
    "version": 3
   },
   "file_extension": ".py",
   "mimetype": "text/x-python",
   "name": "python",
   "nbconvert_exporter": "python",
   "pygments_lexer": "ipython3",
   "version": "3.9.7"
  }
 },
 "nbformat": 4,
 "nbformat_minor": 5
}
