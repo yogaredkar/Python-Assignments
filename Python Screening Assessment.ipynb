{
 "cells": [
  {
   "cell_type": "code",
   "execution_count": null,
   "id": "8c855e36",
   "metadata": {},
   "outputs": [],
   "source": [
    "\n",
    "#1. Create a function in python to read the text file and replace specific content of the file.\n",
    "File name                         example.txt\n",
    "Origin file content               This is a placement assignment\n",
    "Replace string                    Placement should be replaced by\n",
    "                                  screening.\n",
    "Replaced file content             This is a screening assignment\n",
    "#Read the text file\n",
    "\n"
   ]
  },
  {
   "cell_type": "code",
   "execution_count": 2,
   "id": "9ccfbb72",
   "metadata": {},
   "outputs": [],
   "source": [
    "with open('example.txt', 'w') as f:\n",
    "    f.write('Create a new text file!')\n"
   ]
  },
  {
   "cell_type": "code",
   "execution_count": 4,
   "id": "9395e307",
   "metadata": {},
   "outputs": [],
   "source": [
    "f = open(\"example.txt\", \"r\")\n"
   ]
  },
  {
   "cell_type": "code",
   "execution_count": 5,
   "id": "feaa920b",
   "metadata": {},
   "outputs": [
    {
     "name": "stdout",
     "output_type": "stream",
     "text": [
      "Text replaced\n"
     ]
    }
   ],
   "source": [
    "search_text = \"placement\"\n",
    "replace_text = \"screening\"\n",
    "\n",
    "\n",
    "#Opening our text file in read only mode using the open() function\n",
    "with open(r'example.txt', 'r') as file:\n",
    "\n",
    "# using the read() function and storing them in a new variable\n",
    "    data = file.read()\n",
    "    \n",
    "#Searching and replacing the text using the replace() function\n",
    "    data = data.replace(search_text, replace_text)\n",
    "\n",
    "#Opening our text file in write only mode to write the replaced content\n",
    "with open(r'example.txt', 'w') as file:\n",
    "    \n",
    "#Writing the replaced data in our text file\n",
    "    file.write(data)\n",
    "print(\"Text replaced\")"
   ]
  },
  {
   "cell_type": "code",
   "execution_count": null,
   "id": "bca373f6",
   "metadata": {},
   "outputs": [],
   "source": [
    "\n",
    " #2. Demonstrate use of abstract class, multiple inheritance and decorator in python using examples\n"
   ]
  },
  {
   "cell_type": "code",
   "execution_count": null,
   "id": "3eb28cb3",
   "metadata": {},
   "outputs": [],
   "source": []
  },
  {
   "cell_type": "code",
   "execution_count": 6,
   "id": "a64161e5",
   "metadata": {},
   "outputs": [
    {
     "name": "stdout",
     "output_type": "stream",
     "text": [
      "Triangle have 3 sides\n",
      "Quadrilateral have 4 sides\n",
      "Pentagon have 5 sides\n",
      "Hexagon have 6 sides\n"
     ]
    }
   ],
   "source": [
    "class Polygon:\n",
    "    def no_of_sides(self):\n",
    "        pass\n",
    " \n",
    "class Triangle(Polygon):\n",
    " \n",
    "# overriding abstract method\n",
    "    \n",
    "    def no_of_sides(self):\n",
    "        print(\"Triangle have 3 sides\")\n",
    " \n",
    "class Pentagon(Polygon):\n",
    " \n",
    "# overriding abstract method\n",
    "    def no_of_sides(self):\n",
    "        print(\"Pentagon have 5 sides\")\n",
    " \n",
    "class Hexagon(Polygon):\n",
    " \n",
    "# overriding abstract method\n",
    "    def no_of_sides(self):\n",
    "        print(\"Hexagon have 6 sides\")\n",
    " \n",
    "class Quadrilateral(Polygon):\n",
    " \n",
    "# overriding abstract method\n",
    "    def no_of_sides(self):\n",
    "        print(\"Quadrilateral have 4 sides\")\n",
    " \n",
    "# Driver code\n",
    "D = Triangle()\n",
    "D.no_of_sides()\n",
    " \n",
    "E = Quadrilateral()\n",
    "E.no_of_sides()\n",
    " \n",
    "D = Pentagon()\n",
    "D.no_of_sides()\n",
    " \n",
    "E = Hexagon()\n",
    "E.no_of_sides()\n"
   ]
  },
  {
   "cell_type": "code",
   "execution_count": 7,
   "id": "636e82f8",
   "metadata": {},
   "outputs": [
    {
     "name": "stdout",
     "output_type": "stream",
     "text": [
      "I am going to sleep in a while\n",
      "I can meow\n",
      "I can hiss\n"
     ]
    }
   ],
   "source": [
    "\n",
    "from abc import ABC,abstractmethod\n",
    " \n",
    "class Animal(ABC):\n",
    " \n",
    "    #concrete method\n",
    "    def sleep(self):\n",
    "        print(\"I am going to sleep in a while\")\n",
    " \n",
    "    @abstractmethod\n",
    "    def sound(self):\n",
    "        print(\"This function is for defining the sound by any animal\")\n",
    "        pass\n",
    " \n",
    "class Snake(Animal):\n",
    "    def sound(self):\n",
    "        print(\"I can hiss\")\n",
    " \n",
    "class Dog(Animal):\n",
    "    def sound(self):\n",
    "        print(\"I can bark\")\n",
    " \n",
    "class Lion(Animal):\n",
    "    def sound(self):\n",
    "        print(\"I can roar\")\n",
    "       \n",
    "class Cat(Animal):\n",
    "    def sound(self):\n",
    "        print(\"I can meow\")\n",
    "c = Cat()\n",
    "c.sleep()\n",
    "c.sound()\n",
    " \n",
    "c = Snake()\n",
    "c.sound()\n"
   ]
  },
  {
   "cell_type": "code",
   "execution_count": null,
   "id": "4463f962",
   "metadata": {},
   "outputs": [],
   "source": []
  },
  {
   "cell_type": "code",
   "execution_count": null,
   "id": "093aeb71",
   "metadata": {},
   "outputs": [],
   "source": []
  }
 ],
 "metadata": {
  "kernelspec": {
   "display_name": "Python 3 (ipykernel)",
   "language": "python",
   "name": "python3"
  },
  "language_info": {
   "codemirror_mode": {
    "name": "ipython",
    "version": 3
   },
   "file_extension": ".py",
   "mimetype": "text/x-python",
   "name": "python",
   "nbconvert_exporter": "python",
   "pygments_lexer": "ipython3",
   "version": "3.9.7"
  }
 },
 "nbformat": 4,
 "nbformat_minor": 5
}
