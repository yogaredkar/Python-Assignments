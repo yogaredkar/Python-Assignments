{
 "cells": [
  {
   "cell_type": "code",
   "execution_count": null,
   "id": "835ef960",
   "metadata": {},
   "outputs": [],
   "source": [
    "1.What are the two values of the Boolean data type? How do you write them?\n",
    "Ans= Boolean type is one of the built-in data types provided by Python, which represents one of the two values i.e. True or False.\n",
    "     \n",
    "a = True\n",
    "type(a)\n",
    "b = False\n",
    "type(b)\n",
    "bool\n",
    "\n"
   ]
  },
  {
   "cell_type": "code",
   "execution_count": null,
   "id": "b4503ded",
   "metadata": {},
   "outputs": [],
   "source": [
    "2. What are the three different types of Boolean operators?\n",
    "Ans- The three basic boolean operators are: AND, OR, and NOT."
   ]
  },
  {
   "cell_type": "code",
   "execution_count": null,
   "id": "68e0342c",
   "metadata": {},
   "outputs": [],
   "source": [
    "3. Make a list of each Boolean operator's truth tables (i.e. every possible combination of Boolean values for the operator and what it evaluate ).\n",
    "Ans- And Operator= 1 and 1= True, 1 and 0= False, 0 and 0= False, 0 and 1= False.\n",
    "     Or operator= 1 or 1= True, 1 or 0= True, 0 or 0= False, 0 or 1= True\n",
    "    Not operator= not 1= False, not 0= False\n",
    "                    \n"
   ]
  },
  {
   "cell_type": "code",
   "execution_count": null,
   "id": "ed426f16",
   "metadata": {},
   "outputs": [],
   "source": [
    "#4. What are the values of the following expressions?\n",
    "print((5 > 4) and (3 == 5))\n",
    "print (not (5 > 4))\n",
    "False\n",
    "False\n",
    "print((5 > 4) or (3 == 5))\n",
    "print (not ((5 > 4) or (3 == 5)))\n",
    "True\n",
    "False\n",
    "print((True and True) and (True == False))\n",
    "print((not False) or (not True))\n",
    "False\n",
    "True\n"
   ]
  },
  {
   "cell_type": "code",
   "execution_count": null,
   "id": "743e9f50",
   "metadata": {},
   "outputs": [],
   "source": [
    "5. What are the six comparison operators?\n",
    "Ans= Python has six comparison operators: less than ( < ), less than or equal to ( <= ), greater than ( > ), greater than or equal to ( >= ), equal to ( == ), and not equal to ( != ).\n"
   ]
  },
  {
   "cell_type": "code",
   "execution_count": null,
   "id": "6667c74e",
   "metadata": {},
   "outputs": [],
   "source": [
    "6. How do you tell the difference between the equal to and assignment operators?Describe a condition and when you would use one.\n",
    "Ans- The “=” is an assignment operator is used to assign the value on the right to the variable on the left. \n",
    "     The conditions when user want to preserve value to be used in another condition.\n",
    "     The ‘==’ operator checks whether the two given operands are equal or not. If so, it returns true. Otherwise it returns false.\n",
    "     The condition when user need to check/ compare the values to be exactly same.\n",
    "\n",
    " "
   ]
  },
  {
   "cell_type": "code",
   "execution_count": null,
   "id": "b8180ff6",
   "metadata": {},
   "outputs": [],
   "source": [
    "#7. Identify the three blocks in this code:\n",
    "spam = 0\n",
    "if spam == 10:\n",
    "    print('eggs')\n",
    "if spam > 5:\n",
    "    print('bacon')\n",
    "else:\n",
    "    print('ham')\n",
    "    print('spam')\n",
    "    print('spam')\n",
    "Ans= The three blocks are everything inside the if statement and the lines print('bacon') and print('ham').\n",
    "ham\n",
    "spam\n",
    "spam\n"
   ]
  },
  {
   "cell_type": "code",
   "execution_count": null,
   "id": "2c2b62c8",
   "metadata": {},
   "outputs": [],
   "source": [
    "#8. Write code that prints Hello if 1 is stored in spam, prints Howdy if 2 is stored in spam, and prints Greetings! if anything else is stored in spam.\n",
    " \n",
    "spam=0\n",
    "if spam==1:\n",
    "    print('hello')\n",
    "if spam==2:\n",
    "    print('howdy')\n",
    "if not(spam == 1 or spam == 2):\n",
    "    print(\"greetings\")\n",
    "greetings"
   ]
  },
  {
   "cell_type": "code",
   "execution_count": null,
   "id": "c74aec5a",
   "metadata": {},
   "outputs": [],
   "source": []
  },
  {
   "cell_type": "code",
   "execution_count": null,
   "id": "ce7ea498",
   "metadata": {},
   "outputs": [],
   "source": []
  },
  {
   "cell_type": "code",
   "execution_count": null,
   "id": "c056bf07",
   "metadata": {},
   "outputs": [],
   "source": []
  }
 ],
 "metadata": {
  "kernelspec": {
   "display_name": "Python 3 (ipykernel)",
   "language": "python",
   "name": "python3"
  },
  "language_info": {
   "codemirror_mode": {
    "name": "ipython",
    "version": 3
   },
   "file_extension": ".py",
   "mimetype": "text/x-python",
   "name": "python",
   "nbconvert_exporter": "python",
   "pygments_lexer": "ipython3",
   "version": "3.9.7"
  }
 },
 "nbformat": 4,
 "nbformat_minor": 5
}
