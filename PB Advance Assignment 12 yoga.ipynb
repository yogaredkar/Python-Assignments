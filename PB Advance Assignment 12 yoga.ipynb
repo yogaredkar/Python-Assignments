{
 "cells": [
  {
   "cell_type": "code",
   "execution_count": null,
   "id": "ca86c7e6",
   "metadata": {},
   "outputs": [],
   "source": [
    "\n",
    "Q1. Does assigning a value to a string's indexed character violate Python's string immutability ?\n",
    "\n",
    "Ans: String’s indexed character cannot to be assigned a New value , as Strings are immutable.\n",
    "\n",
    "Example:\n",
    "\n",
    "name = \"Reinforcement\"\n",
    "print(id(name)) #73472\n",
    "name[0] = \"V\" # Raises TypeError\n"
   ]
  },
  {
   "cell_type": "code",
   "execution_count": null,
   "id": "e376ea56",
   "metadata": {},
   "outputs": [],
   "source": [
    "Q2. Does using the += operator to concatenate strings violate Python's string immutability? Why or why not ?\n",
    "\n",
    "Ans: += operator is used to concatenate strings, it does not violate Python’s string immutability Property. Because doing so new creates a new association with data and variable. E.g. str_1=\"a\" and str_1+=\"b. effect of this statements to create string ab and reassign it to variable str_1, any string data is not actually modified.\n",
    "\n",
    "str_1 = 'a'\n",
    "print(id(str_1))\n",
    "str_1 += 'b'\n",
    "print(id(str_1)) \n",
    "# Does not Modify existing string, Creates a New String Object\n"
   ]
  },
  {
   "cell_type": "code",
   "execution_count": null,
   "id": "1f485d2c",
   "metadata": {},
   "outputs": [],
   "source": [
    "Q3. In Python, how many different ways are there to index a character?\n",
    "\n",
    "Ans: A Character in string can be indexed using string name followed by index number of character in square bracket. Positive Indexing i.e. first index is 0 an so on, or Negative Indexing i.e. last letter is -1 and so on can be used to index a character.\n",
    "\n",
    "in_string = \"iNeuron Full Stack Data Science\"\n",
    "# Positive Indexing\n",
    "print(in_string[9],in_string[10],in_string[2]) \n",
    "# Negative Indexing\n",
    "print(in_string[-1],in_string[-5],in_string[-2]) \n"
   ]
  },
  {
   "cell_type": "code",
   "execution_count": null,
   "id": "ba6e0d09",
   "metadata": {},
   "outputs": [],
   "source": [
    "Q4. What is the relationship between indexing and slicing?\n",
    "\n",
    "Ans: We can access elements of sequence datatypes by using slicing and indexing. Indexing is used to obtaining individual element while slicing for sequence of elements.\n",
    "\n",
    "in_string = \"iNeuron Full Stack Data Science\"\n",
    "# Indexing\n",
    "print(in_string[1],in_string[3],in_string[5]) \n",
    "# Slicing\n",
    "print(in_string[1:15]) \n"
   ]
  },
  {
   "cell_type": "code",
   "execution_count": null,
   "id": "1055bc71",
   "metadata": {},
   "outputs": [],
   "source": [
    "Q5. What is an indexed character's exact data type? What is the data form of a slicing-generated substring?\n",
    "\n",
    "Ans: Indexed characters and sliced substrings have datatype String.\n",
    "\n",
    "in_string = \"iNeuron Full Stack Data Science\"\n",
    "print(type(in_string[3])) # Indexing -> str\n",
    "print(type(in_string[1:10])) # Indexing -> str\n",
    "<class 'str'>\n",
    "<class 'str'>\n"
   ]
  },
  {
   "cell_type": "code",
   "execution_count": null,
   "id": "5535617f",
   "metadata": {},
   "outputs": [],
   "source": [
    "Q6. What is the relationship between string and character \"types\" in Python?\n",
    "\n",
    "Ans: Object that contains sequence of character datatypes are called String.\n"
   ]
  },
  {
   "cell_type": "code",
   "execution_count": null,
   "id": "63f71f1e",
   "metadata": {},
   "outputs": [],
   "source": [
    "Q7. Identify at least two operators & one method that allow you to combine one or more smaller strings to create a larger string ?\n",
    "\n",
    "Ans: +, += and * allow to combine one or more smaller strings to create a larger string. .join() method joins element of iterable type like list and tuple to get a combined string.\n",
    "\n",
    "in_string = 'iNeuron '\n",
    "in_string += 'Full Stack Data Science'\n",
    "print(in_string + ' FSDS')\n",
    "print('FSDS '*3)\n",
    "# List Iterable\n",
    "print(\" \".join(['I','N','E','U','R','O','N'])) \n",
    "# Tuple Iterable\n",
    "print(\" \".join(('I','N','E','U','R','O','N')).lower()) \n",
    "iNeuron Full Stack Data Science FSDS\n",
    "FSDS FSDS FSDS \n",
    "I N E U R O N\n",
    "i n e u r o n\n"
   ]
  },
  {
   "cell_type": "code",
   "execution_count": null,
   "id": "23c8884c",
   "metadata": {},
   "outputs": [],
   "source": [
    "Q8. What is the benefit of first checking the target string with in or not in before using the index method to find a substring ?\n",
    "\n",
    "Ans: Checking the target string with in or not Operators before using the index method to find a substring just helps confirming availability of substring and thus avoid raising of ValueError.\n",
    "\n",
    "Example:\n",
    "in_string = \"ineuron\"\n",
    "in_string.index('x') # Raises ValueError\n",
    "in_string.index('u') # 3\n"
   ]
  },
  {
   "cell_type": "code",
   "execution_count": null,
   "id": "9aeb704b",
   "metadata": {},
   "outputs": [],
   "source": [
    "Q9. Which operators and built-in string methods produce simple Boolean (true/false) results?\n",
    "\n",
    "Ans: The String Operators and built-in methods to Produce Simple Boolean (True/False) Results are:\n",
    "\n",
    "in\n",
    "not\n",
    "<string>.isalpha()\n",
    "<string>.isalnum()\n",
    "<string>.isdecimal()\n",
    "<string>.isdigit()\n",
    "<string>.islower()\n",
    "<string>.isnumeric()\n",
    "<string>.isprintable()\n",
    "<string>.isspace()\n",
    "<string>.istitle()\n",
    " "
   ]
  }
 ],
 "metadata": {
  "kernelspec": {
   "display_name": "Python 3 (ipykernel)",
   "language": "python",
   "name": "python3"
  },
  "language_info": {
   "codemirror_mode": {
    "name": "ipython",
    "version": 3
   },
   "file_extension": ".py",
   "mimetype": "text/x-python",
   "name": "python",
   "nbconvert_exporter": "python",
   "pygments_lexer": "ipython3",
   "version": "3.9.7"
  }
 },
 "nbformat": 4,
 "nbformat_minor": 5
}
