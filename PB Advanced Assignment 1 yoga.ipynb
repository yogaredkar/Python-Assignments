{
 "cells": [
  {
   "cell_type": "code",
   "execution_count": null,
   "id": "35fdbbf3",
   "metadata": {},
   "outputs": [],
   "source": [
    "Q1. What is the purpose of Python's OOP?\n",
    "Ans- In Python, object-oriented Programming (OOPs) is a programming paradigm that uses objects and classes in programming. \n",
    "It aims to implement real-world entities like inheritance, polymorphisms, encapsulation, etc. in the programming. \n",
    "The main concept of OOPs is to bind the data and the functions that work on that together as a single unit so that no other part of the code can access this data. \n"
   ]
  },
  {
   "cell_type": "code",
   "execution_count": null,
   "id": "6fbf0e7e",
   "metadata": {},
   "outputs": [],
   "source": [
    "Q2. Where does an inheritance search look for an attribute?\n",
    "Ans-  In Python, inheritance happens when an object is qualified, and involves searching an attribute definition tree (one or more namespaces).\n",
    "Every time you use an expression of the form object.attr where object is an instance or class object, Python searches the namespace tree at and above object, for the first attr it can find.\n",
    "All of these objects are namespaces (packages of variables), and the inheritance search is simply a search of the tree from bottom to top looking for the lowest occurrence of an attribute name.\n",
    "Q3. How do you distinguish between a class object and an instance object\n",
    "Ans-         Class                                                             Object\n",
    "A class is a template for creating objects in program.         The object is an instance of a class.\n",
    "A class is a logical entity.                                   Object is a physical entity\n",
    "A class does not allocate memory space when it is created.     Object allocates memory space whenever they are created.\n"
   ]
  },
  {
   "cell_type": "code",
   "execution_count": null,
   "id": "13fad5a6",
   "metadata": {},
   "outputs": [],
   "source": [
    "Q4. What makes the first argument in a class’s method function special?\n",
    "Ans- The first argument of every class method, including init, is always a reference to the current instance of the class.\n",
    "Self is the first argument to be passed in Constructor and Instance Method. Self must be provided as a First parameter to the Instance method and constructor.\n"
   ]
  },
  {
   "cell_type": "code",
   "execution_count": null,
   "id": "004e2feb",
   "metadata": {},
   "outputs": [],
   "source": [
    "Q5. What is the purpose of the __init__ method?\n",
    "Ans- \"__init__\" is a reseved method in python classes. It is called as a constructor in object oriented terminology. This method is called when an object is created from a class and it allows the class to initialize the attributes of the class.\n",
    "It is run as soon as an object of a class is instantiated. The method is useful to do any initialization you want to do with your object.\n"
   ]
  },
  {
   "cell_type": "code",
   "execution_count": null,
   "id": "66a0de94",
   "metadata": {},
   "outputs": [],
   "source": [
    "Q6. What is the process for creating a class instance?\n",
    "Ans- Use the class name to create a new instance\n",
    "\n",
    "Call ClassName() to create a new instance of the class ClassName . \n",
    "To pass parameters to the class instance, the class must have an __init__() method. \n",
    "Pass the parameters in the constructor of the class.\n"
   ]
  },
  {
   "cell_type": "code",
   "execution_count": null,
   "id": "1a44b4a2",
   "metadata": {},
   "outputs": [],
   "source": [
    "Q7. What is the process for creating a class?\n",
    "Ans- Creating a new class creates a new type of object, allowing new instances of that type to be made.\n",
    "Each class instance can have attributes attached to it for maintaining its state. \n",
    "Class instances can also have methods (defined by their class) for modifying their state.\n",
    "Python3 program to\n",
    "# demonstrate defining\n",
    "# a class\n",
    " \n",
    "class Dog:\n",
    "    pass\n"
   ]
  },
  {
   "cell_type": "code",
   "execution_count": null,
   "id": "8d11d33c",
   "metadata": {},
   "outputs": [],
   "source": [
    "Q8. How would you define the superclasses of a class?\n",
    "Ans- The class from which a class inherits is called the parent or superclass.\n",
    "A class which inherits from a superclass is called a subclass, also called heir class or child class. \n",
    "Superclasses are sometimes called ancestors as well. \n",
    " "
   ]
  }
 ],
 "metadata": {
  "kernelspec": {
   "display_name": "Python 3 (ipykernel)",
   "language": "python",
   "name": "python3"
  },
  "language_info": {
   "codemirror_mode": {
    "name": "ipython",
    "version": 3
   },
   "file_extension": ".py",
   "mimetype": "text/x-python",
   "name": "python",
   "nbconvert_exporter": "python",
   "pygments_lexer": "ipython3",
   "version": "3.9.7"
  }
 },
 "nbformat": 4,
 "nbformat_minor": 5
}
