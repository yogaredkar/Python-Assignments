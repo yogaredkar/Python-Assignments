{
 "cells": [
  {
   "cell_type": "code",
   "execution_count": null,
   "id": "2abb8652",
   "metadata": {},
   "outputs": [],
   "source": [
    "Q1. Which two operator overloading methods can you use in your classes to support iteration?\n",
    "Ans- 1) iter and next are the operator overloading methods in python that support iteration and are collectively called iterator protocol.\n",
    "\n",
    "iter returns the iterator object and is called at the start of loop in our respective class. next is called at each loop increment, it returns the incremented value.\n",
    "Also Stopiteration is raised when there is no value to return.\n",
    "\n",
    "class Counter:\n",
    "    def __init__(self,low,high):\n",
    "        self.current = low\n",
    "        self.high = high\n",
    "    def __iter__(self):\n",
    "        return self\n",
    "    def __next__(self):\n",
    "        if self.current > self.high:\n",
    "            raise StopIteration\n",
    "        else:\n",
    "            self.current += 1\n",
    "            return self.current - 1\n",
    "for ele in Counter(5,15):\n",
    "    print(ele, end=\" \")\n"
   ]
  },
  {
   "cell_type": "code",
   "execution_count": null,
   "id": "68be01e4",
   "metadata": {},
   "outputs": [],
   "source": [
    "Q2. In what contexts do the two operator overloading methods manage printing?\n",
    "Ans- str and repr are two operator overloading methods that manage printing.\n",
    "\n",
    "In Short, the difference between both these operators is the goal of repr is to be unambiguous and str is to be readable. Whenever we are printing any object reference internally str method will be called by default. The main purpose of str is for readability. it prints the informal string representation of an object, one that is useful for printing the object. it may not be possible to convert result string to original object. \n",
    "repr is used to print official string representation of an object, so it includes all information and development.\n"
   ]
  },
  {
   "cell_type": "code",
   "execution_count": null,
   "id": "4befcff5",
   "metadata": {},
   "outputs": [],
   "source": [
    "Q3. In a class, how do you intercept slice operations?\n",
    "Ans- In a class use of slice() in getitem method is used for intercept slice operation. This slice method is provided with start integer number, stop integer number and step integer number.\n",
    "\n",
    "Example: getitem(slice(start,stop,step))\n"
   ]
  },
  {
   "cell_type": "code",
   "execution_count": null,
   "id": "5b5079c9",
   "metadata": {},
   "outputs": [],
   "source": [
    "Q4. In a class, how do you capture in-place addition?\n",
    "Ans- a+b is normal addition. Whereas a+=b is inplace addition operation. In this in-place addition a itself will store the value of addition. \n",
    "In a class iadd method is used for this in-place operation\n"
   ]
  },
  {
   "cell_type": "code",
   "execution_count": null,
   "id": "3812ea6f",
   "metadata": {},
   "outputs": [],
   "source": [
    "Q5. When is it appropriate to use operator overloading?\n",
    "Ans- Operator overloading is used when we want to use an operator other than its normal operation to have different meaning according to the context required in user defined function.\n",
    "class Book:\n",
    "    def __init__(self,pages):\n",
    "        self.pages = pages\n",
    "    def __add__(self,other):\n",
    "        return self.pages+other.pages\n",
    "b1 = Book(100)\n",
    "b2 = Book(200)\n",
    "print(f'Total Number of Pages -> {b1+b2}')"
   ]
  }
 ],
 "metadata": {
  "kernelspec": {
   "display_name": "Python 3 (ipykernel)",
   "language": "python",
   "name": "python3"
  },
  "language_info": {
   "codemirror_mode": {
    "name": "ipython",
    "version": 3
   },
   "file_extension": ".py",
   "mimetype": "text/x-python",
   "name": "python",
   "nbconvert_exporter": "python",
   "pygments_lexer": "ipython3",
   "version": "3.9.7"
  }
 },
 "nbformat": 4,
 "nbformat_minor": 5
}
