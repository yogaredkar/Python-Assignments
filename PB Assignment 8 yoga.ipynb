{
 "cells": [
  {
   "cell_type": "code",
   "execution_count": null,
   "id": "f9c341dd",
   "metadata": {},
   "outputs": [],
   "source": [
    "\n",
    "Q1.Is the Python Standard Library included with PyInputPlus?\n",
    "Ans. No. Python Standard Library does not come with PyInputPlus. I is needed to be installed using:\n",
    "\"pip install PyInputPlus\"\n"
   ]
  },
  {
   "cell_type": "code",
   "execution_count": null,
   "id": "eb3f2d7e",
   "metadata": {},
   "outputs": [],
   "source": [
    "2. Why is PyInputPlus commonly imported with import pyinputplus as pypi?\n",
    "Ans. You can import the module with-\"import pyinputplus as pyip\" so that you can enter a shorter name \n",
    "when calling the module's functions. PyInputPlus has functions for entering a variety of input, \n",
    "including strings, numbers, dates, yes/no, True/False, emails, and files.\n"
   ]
  },
  {
   "cell_type": "code",
   "execution_count": null,
   "id": "05551252",
   "metadata": {},
   "outputs": [],
   "source": [
    "3. How do you distinguish between inputInt() and inputFloat()?\n",
    "Ans. \"inputInt()\" accepts an integer value and returns an integer value. Whereas,\n",
    "  \"inputFloat()\" accepts a floating point value and returns a floating point value\n"
   ]
  },
  {
   "cell_type": "code",
   "execution_count": null,
   "id": "34ea4776",
   "metadata": {},
   "outputs": [],
   "source": [
    "#4. Using PyInputPlus, how do you ensure that the user enters a whole number between 0 and 99?\n",
    "#Ans.With \"pyip.inputInt\" we can use min value to \"0\" and max value to \"99\"\n",
    "import pyinputplus as pyip\n",
    "pyip.inputInt(prompt=\"Enter a value between 0 to 99: Entered value is - \",min=0,max=99,limit=3)\n"
   ]
  },
  {
   "cell_type": "code",
   "execution_count": null,
   "id": "19c9d257",
   "metadata": {},
   "outputs": [],
   "source": [
    "5. What is transferred to the keyword arguments allowRegexes and blockRegexes?\n",
    "Ans- import pyinputplus as pyip\n",
    "pyip.inputInt(prompt='What is your phone?',allowRegexes=[r'\\d{3}-\\d{2}','None'])\n",
    "# print('Your phone is', phone)\n"
   ]
  },
  {
   "cell_type": "code",
   "execution_count": null,
   "id": "ca2fbcb4",
   "metadata": {},
   "outputs": [],
   "source": [
    "6. If a blank input is entered three times, what does inputStr(limit=3) do?\n",
    "Ans. We will get below error:\n",
    "ValidationException: Blank values are not allowed after 3 attempt\n",
    "\n",
    "import pyinputplus as pyip\n",
    "pyip.inputStr(prompt='Enter string value',limit=3)\n"
   ]
  },
  {
   "cell_type": "code",
   "execution_count": null,
   "id": "a8c2807b",
   "metadata": {},
   "outputs": [],
   "source": [
    "Q7. If blank input is entered three times, what does inputStr(limit=3, default='hello') do?\n",
    "\n",
    "Ans It will return 'hello' after 3rd blank value:\n",
    "import pyinputplus as pyip\n",
    "pyip.inputStr(prompt='Enter string value',limit=3,default='hello')"
   ]
  },
  {
   "cell_type": "code",
   "execution_count": null,
   "id": "ed25423d",
   "metadata": {},
   "outputs": [],
   "source": []
  },
  {
   "cell_type": "code",
   "execution_count": null,
   "id": "11176b76",
   "metadata": {},
   "outputs": [],
   "source": []
  },
  {
   "cell_type": "code",
   "execution_count": null,
   "id": "9405f8fe",
   "metadata": {},
   "outputs": [],
   "source": []
  },
  {
   "cell_type": "code",
   "execution_count": null,
   "id": "3b3cb766",
   "metadata": {},
   "outputs": [],
   "source": []
  },
  {
   "cell_type": "code",
   "execution_count": null,
   "id": "84e9391a",
   "metadata": {},
   "outputs": [],
   "source": []
  },
  {
   "cell_type": "code",
   "execution_count": null,
   "id": "805b711a",
   "metadata": {},
   "outputs": [],
   "source": []
  },
  {
   "cell_type": "code",
   "execution_count": null,
   "id": "bae1be6a",
   "metadata": {},
   "outputs": [],
   "source": []
  },
  {
   "cell_type": "code",
   "execution_count": null,
   "id": "1ff0d898",
   "metadata": {},
   "outputs": [],
   "source": []
  }
 ],
 "metadata": {
  "kernelspec": {
   "display_name": "Python 3 (ipykernel)",
   "language": "python",
   "name": "python3"
  },
  "language_info": {
   "codemirror_mode": {
    "name": "ipython",
    "version": 3
   },
   "file_extension": ".py",
   "mimetype": "text/x-python",
   "name": "python",
   "nbconvert_exporter": "python",
   "pygments_lexer": "ipython3",
   "version": "3.9.7"
  }
 },
 "nbformat": 4,
 "nbformat_minor": 5
}
