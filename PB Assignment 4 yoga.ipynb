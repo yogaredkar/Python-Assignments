{
 "cells": [
  {
   "cell_type": "code",
   "execution_count": null,
   "id": "d62f15bf",
   "metadata": {},
   "outputs": [],
   "source": [
    "1.\tWhat exactly is []?\n",
    "Ans-[ ] is an empty list. In Python, a list is created by placing elements inside square brackets [] \n"
   ]
  },
  {
   "cell_type": "code",
   "execution_count": null,
   "id": "bab29c68",
   "metadata": {},
   "outputs": [],
   "source": [
    "2.\tIn a list of values stored in a variable called spam, how would you assign the value 'hello' as the third value? (Assume [2, 4, 6, 8, 10] are in spam.)\n",
    "Ans-  spam[2] = 'hello' (Notice that the third value in a list is at index 2 because the first index is 0.)\n",
    "Let's pretend the spam includes the list ['a', 'b', 'c', 'd'] for the next three queries.\n"
   ]
  },
  {
   "cell_type": "code",
   "execution_count": null,
   "id": "b11e5f6e",
   "metadata": {},
   "outputs": [],
   "source": [
    "3.\tWhat is the value of spam[int(int('3' * 2) / 11)]?\n",
    "Ans- 'd' (Note that '3' * 2 is the string '33', which is passed to int() before being divided by 11. This eventually evaluates to 3. Expressions can be used wherever values are used.)\n",
    "spam=['a','b','c','d']\n",
    "spam[int(int('3'*2)/11)]\n",
    "'d'\n"
   ]
  },
  {
   "cell_type": "code",
   "execution_count": null,
   "id": "8f23d0b8",
   "metadata": {},
   "outputs": [],
   "source": [
    "4. What is the value of spam[-1]?\n",
    "spam[-1]\n",
    "'d'\n"
   ]
  },
  {
   "cell_type": "code",
   "execution_count": null,
   "id": "515953f2",
   "metadata": {},
   "outputs": [],
   "source": [
    "5. What is the value of spam[:2]?\n",
    "spam[:2]\n",
    "['a', 'b']\n",
    "Let's pretend bacon has the list [3.14, 'cat,' 11, 'cat,' True] for the next three questions.\n"
   ]
  },
  {
   "cell_type": "code",
   "execution_count": null,
   "id": "d659adae",
   "metadata": {},
   "outputs": [],
   "source": [
    "6. What is the value of bacon.index('cat')?\n",
    " bacon=[3.14, 'cat', 11,'cat', True]\n",
    "bacon.index('cat')\n",
    "1\n"
   ]
  },
  {
   "cell_type": "code",
   "execution_count": null,
   "id": "841dfa2d",
   "metadata": {},
   "outputs": [],
   "source": [
    "7. How does bacon.append(99) change the look of the list value in bacon?\n",
    "bacon.append(99)\n",
    "bacon\n",
    "[3.14, 'cat', 11, 'cat', True, 'cat', 99]\n"
   ]
  },
  {
   "cell_type": "code",
   "execution_count": null,
   "id": "6fb25fef",
   "metadata": {},
   "outputs": [],
   "source": [
    "8. How does bacon.remove('cat') change the look of the list in bacon?\n",
    "bacon.remove('cat')\n",
    "bacon\n",
    "[3.14, 11, 'cat', True, 'cat', 99]\n"
   ]
  },
  {
   "cell_type": "code",
   "execution_count": null,
   "id": "85f5b29a",
   "metadata": {},
   "outputs": [],
   "source": [
    "9. What are the list concatenation and list replication operators?\n",
    "Ans- The operator for list concatenation is +, while the operator for replication is *. (This is the same as for strings.)\n"
   ]
  },
  {
   "cell_type": "code",
   "execution_count": null,
   "id": "7b5b7ebc",
   "metadata": {},
   "outputs": [],
   "source": [
    "10. What is difference between the list methods append() and insert()?\n",
    "Ans- Append everytime adds the character at the end of the list \n",
    "     Insert can insert or add charater anywhere in the list \n"
   ]
  },
  {
   "cell_type": "code",
   "execution_count": null,
   "id": "32fe7f3a",
   "metadata": {},
   "outputs": [],
   "source": [
    "11. What are the two methods for removing items from a list?\n",
    "Ans- The methods are remove(), pop() and clear(). It helps to remove the very first given element matching from the list.\n",
    "     The pop() method removes an element from the list based on the index given.\n",
    "     The clear() method will remove all the elements present in the list.\n"
   ]
  },
  {
   "cell_type": "code",
   "execution_count": null,
   "id": "47eecafa",
   "metadata": {},
   "outputs": [],
   "source": [
    "12.Describe how list values and string values are identical.\n",
    "Ans- copy.copy(x)\n",
    "Return a shallow copy of x.\n",
    "\n",
    "copy.deepcopy(x[, memo])\n",
    "Return a deep copy of x.\n",
    "A shallow copy constructs a new compound object and then (to the extent possible) inserts references into it to the objects found in the original.\n",
    "\n",
    "A deep copy constructs a new compound object and then, recursively, inserts copies into it of the objects found in the original.\n"
   ]
  },
  {
   "cell_type": "code",
   "execution_count": null,
   "id": "dae3431b",
   "metadata": {},
   "outputs": [],
   "source": [
    "13.What's the difference between tuples and lists?\n",
    "Ans- Tuples use (), while lists use  []\n",
    "Tuples is immutable collections, tuples cannot be changed while the lists can be modified.\n",
    "Tuple data type is appropriate for accessing the elements. The list is better for performing operations, such as insertion and deletion.\n",
    "Tuple does not have many built-in methods whereas lists have built-in methods.\n",
    "Tuple consume less memory as compared to the list\n"
   ]
  },
  {
   "cell_type": "code",
   "execution_count": null,
   "id": "6127d8fd",
   "metadata": {},
   "outputs": [],
   "source": [
    "14. How do you type a tuple value that only contains the integer 42?\n",
    "t=(42, True, 234.23, 45+23j, \"sunlight\", True)\n",
    "type(42)\n",
    "int\n"
   ]
  },
  {
   "cell_type": "code",
   "execution_count": null,
   "id": "83eb91a8",
   "metadata": {},
   "outputs": [],
   "source": [
    "15. How do you get a list value's tuple form? How do you get a tuple value's list form?\n",
    "l=[12,34,56,'moonlight',234.23]\n",
    "tuple(l)\n",
    "(12, 34, 56, 'moonlight', 234.23)\n"
   ]
  },
  {
   "cell_type": "code",
   "execution_count": null,
   "id": "6baf12ad",
   "metadata": {},
   "outputs": [],
   "source": [
    "16. Variables that \"contain\" list values are not necessarily lists themselves. Instead, what do they contain?\n",
    "t=(23,567,34+23j,True,\"sunlight\")\n",
    "list(t)\n",
    "[23, 567, (34+23j), True, 'sunlight']\n"
   ]
  },
  {
   "cell_type": "code",
   "execution_count": null,
   "id": "5d05f0ea",
   "metadata": {},
   "outputs": [],
   "source": [
    "17. How do you distinguish between copy.copy() and copy.deepcopy()?\n",
    "A shallow copy constructs a new compound object and then (to the extent possible) inserts references into it to the objects found in the original. A deep copy constructs a new compound object and then, recursively, inserts copies into it of the objects found in the original."
   ]
  }
 ],
 "metadata": {
  "kernelspec": {
   "display_name": "Python 3 (ipykernel)",
   "language": "python",
   "name": "python3"
  },
  "language_info": {
   "codemirror_mode": {
    "name": "ipython",
    "version": 3
   },
   "file_extension": ".py",
   "mimetype": "text/x-python",
   "name": "python",
   "nbconvert_exporter": "python",
   "pygments_lexer": "ipython3",
   "version": "3.9.7"
  }
 },
 "nbformat": 4,
 "nbformat_minor": 5
}
