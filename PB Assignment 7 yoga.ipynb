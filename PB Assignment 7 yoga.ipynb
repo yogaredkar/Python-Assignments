{
 "cells": [
  {
   "cell_type": "code",
   "execution_count": null,
   "id": "6c5f6abb",
   "metadata": {},
   "outputs": [],
   "source": [
    "Q1. What is the purpose of the try statement?\n",
    "Ans- Try Except in Python\n",
    "The try block is used to check some code for errors i.e the code inside the try block will execute when there is no error in the program.\n",
    "Python's try statement is a means which we can use to handle errors gracefully. \n",
    "If the error is handled properly, execution of the code does not produce error status and there is no output to stderr.\n"
   ]
  },
  {
   "cell_type": "code",
   "execution_count": null,
   "id": "9de69592",
   "metadata": {},
   "outputs": [],
   "source": [
    "Q2. What are the two most popular try statement variations?\n",
    "Ans- Python Try Except\n",
    "The try block lets you test a block of code for errors. \n",
    "The except block lets you handle the error.\n",
    "The else block lets you execute code.\n",
    "Exception handling with try, except, else and finally\n",
    "Try: This block will test the excepted error to occur\n",
    "Except:  Here you can handle the error\n",
    "Else: If there is no exception then this block will be executed\n",
    "Finally: Finally block always gets executed either exception is generated or not\n"
   ]
  },
  {
   "cell_type": "code",
   "execution_count": null,
   "id": "0ff89549",
   "metadata": {},
   "outputs": [],
   "source": [
    "Q3. What is the purpose of the raise statement?\n",
    "Ans- Python raise Keyword is used to raise exceptions or errors. The raise keyword raises an error and stops the control flow of the program. \n",
    "It is used to bring up the current exception in an exception handler so that it can be handled further up the call stack.\n",
    "Syntax of the raise keyword :\n",
    "raise  {name_of_ the_ exception_class}\n"
   ]
  },
  {
   "cell_type": "code",
   "execution_count": null,
   "id": "7776124f",
   "metadata": {},
   "outputs": [],
   "source": [
    "Q4. What does the assert statement do, and what other statement is it like?\n",
    "Ans- An assert statement checks whether a condition is true. If a condition evaluates to True, a program will keep running. \n",
    "If a condition is false, the program will return an AssertionError. At this point, the program will stop executing.\n",
    "Assertions are statements that assert or state a fact confidently in your program. \n",
    "For example, while writing a division function, you're confident the divisor shouldn't be zero, you assert divisor is not equal to zero.\n",
    "Assertions are simply boolean expressions that check if the conditions return true or not.\n",
    "If it is true, the program does nothing and moves to the next line of code. \n",
    "However, if it's false, the program stops and throws an error.\n"
   ]
  },
  {
   "cell_type": "code",
   "execution_count": null,
   "id": "68701ac7",
   "metadata": {},
   "outputs": [],
   "source": [
    "Q5. What is the purpose of the with/as argument, and what other statement is it like?\n",
    "Ans- with statement in Python is used in exception handling to make the code cleaner and much more readable.\n",
    "It simplifies the management of common resources like file streams.\n",
    "with statement helps avoiding bugs and leaks by ensuring that a resource is properly released when the code using the resource is completely executed.\n",
    " "
   ]
  }
 ],
 "metadata": {
  "kernelspec": {
   "display_name": "Python 3 (ipykernel)",
   "language": "python",
   "name": "python3"
  },
  "language_info": {
   "codemirror_mode": {
    "name": "ipython",
    "version": 3
   },
   "file_extension": ".py",
   "mimetype": "text/x-python",
   "name": "python",
   "nbconvert_exporter": "python",
   "pygments_lexer": "ipython3",
   "version": "3.9.7"
  }
 },
 "nbformat": 4,
 "nbformat_minor": 5
}
