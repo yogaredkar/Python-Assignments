{
 "cells": [
  {
   "cell_type": "code",
   "execution_count": null,
   "id": "8e0b8bf3",
   "metadata": {},
   "outputs": [],
   "source": [
    "1. In what modes should the PdfFileReader() and PdfFileWriter() File objects will be opened?\n",
    "Ans- \"PdfFileReader()\" needs to be opened in read-binary mode by passing 'rb' as the second argument to open(). \n",
    "Likewise, the File object passed to PyPDF2. PdfFileWriter() needs to be opened in write-binary mode with 'wb'."
   ]
  },
  {
   "cell_type": "code",
   "execution_count": null,
   "id": "efe61cba",
   "metadata": {},
   "outputs": [],
   "source": [
    "2. From a PdfFileReader object, how do you get a Page object for page 5?\n",
    "Ans- With the help of \"PdfFileReader.getPage(5)\", Page object for page 5 can be created.\n",
    "Below are the steps:\n",
    "     import PyPDF2 as pdf\n",
    "     pdf_read=pdf.PdfFileReader(open('example.pdf','rb'))\n",
    "     page_object=pdf_read.getPage(5)\n",
    "     print(page_object.extractText())"
   ]
  },
  {
   "cell_type": "code",
   "execution_count": null,
   "id": "89746101",
   "metadata": {},
   "outputs": [],
   "source": [
    "3. What PdfFileReader variable stores the number of pages in the PDF document?\n",
    "Ans- 'numPages' \n",
    "\n",
    "     import PyPDF2 as pdf\n",
    "     pdf_reader=pdf.PdfFileReader(open('example.pdf','rb'))\n",
    "     print(pdf_reader.numPages)"
   ]
  },
  {
   "cell_type": "code",
   "execution_count": null,
   "id": "4b3dea4f",
   "metadata": {},
   "outputs": [],
   "source": [
    "4. If a PdfFileReader object’s PDF is encrypted with the password swordfish, what must you do\n",
    "before you can obtain Page objects from it?\n",
    "Ans-  Below steps are required before we can obtain Page objects:\n",
    "     import PyPDF2 as pdf\n",
    "     pdf_reader=pdf.PdfFileReader(open('cc.pdf','rb'))\n",
    "     pdf_reader.decrypt(\"swordfish\")"
   ]
  },
  {
   "cell_type": "code",
   "execution_count": null,
   "id": "039a190b",
   "metadata": {},
   "outputs": [],
   "source": [
    "5. What methods do you use to rotate a page?\n",
    "Ans- We can rotate a page clockwise or counter-clockwise by an angle. The PdfFileWriter is used to write the PDF file \n",
    "from the source PDF. We are using rotateClockwise(90) method to rotate the page clockwise by 90-degrees. \n",
    "We are adding the rotated pages to the PdfFileWriter instance.\n",
    "\n",
    "import PyPDF2 as pdf\n",
    "pdf_in=open('test.pdf','rb')\n",
    "pdf_reader=pdf.PdfFileReader(pdf_in)\n",
    "pdf_writer=pdf.PdfFileWriter()\n",
    "\n",
    "for i in range(pdf_reader.numPages):\n",
    "    page=pdf_reader.getPage(i)\n",
    "    page.rotateClockwise(90)\n",
    "    pdf_writer.addPage(page)\n",
    "    \n",
    "pdf_out=open('rotated.pdf','wb')\n",
    "pdf_writer.write(pdf_out)\n",
    "pdf_out.close()\n",
    "pdf_in.close()"
   ]
  },
  {
   "cell_type": "code",
   "execution_count": null,
   "id": "b5849ea9",
   "metadata": {},
   "outputs": [],
   "source": [
    "6. What is the difference between a Run object and a Paragraph object?\n",
    "Ans- A Run Object:\n",
    "The text in a Word document is more than just a string. It has font, size, color, and other styling information \n",
    "associated with it. A style in Word is a collection of these attributes. A Run object is a contiguous run of text \n",
    "with the same style. A new Run object is needed whenever the text style changes\n",
    "Paragraph object:\n",
    "A Document Object contains Paragraph object. Paragraph objects has a text attribute that contains a string of the text \n",
    "in that paragraph"
   ]
  },
  {
   "cell_type": "code",
   "execution_count": null,
   "id": "4c9df977",
   "metadata": {},
   "outputs": [],
   "source": [
    "7. How do you obtain a list of Paragraph objects for a Document object that’s stored in a variable named doc?\n",
    "Ans-\n",
    "import docx\n",
    "doc=docx.Document('doc1.docx')\n",
    "len(doc.paragraphs)\n",
    "[doc.paragraphs[i].text for i in range(len(doc.paragraphs))]"
   ]
  },
  {
   "cell_type": "code",
   "execution_count": null,
   "id": "76ca76b8",
   "metadata": {},
   "outputs": [],
   "source": [
    "8. What type of object has bold, underline, italic, strike, and outline variables?\n",
    "Ans- 'run' object has these variables."
   ]
  },
  {
   "cell_type": "code",
   "execution_count": null,
   "id": "99be34ef",
   "metadata": {},
   "outputs": [],
   "source": [
    "9. What is the difference between False, True, and None for the bold variable?\n",
    "Ans- 'True' always makes the Run object bold and 'False' makes it always not bold, no matter what the style's bold setting is. \n",
    "'None' will make the Run object just use the style's bold setting."
   ]
  },
  {
   "cell_type": "code",
   "execution_count": null,
   "id": "e958b145",
   "metadata": {},
   "outputs": [],
   "source": [
    "10. How do you create a Document object for a new Word document?\n",
    "Ans- With 'docx.Document()' function, we can create a Document object for a new Word document."
   ]
  },
  {
   "cell_type": "code",
   "execution_count": null,
   "id": "2f2a8daf",
   "metadata": {},
   "outputs": [],
   "source": [
    "11. How do you add a paragraph with the text &#39;Hello, there!&#39; to a Document object stored in a\n",
    "variable named doc?\n",
    "Ans- with the help of \"doc.add_paragraph('Hello there!')\"\n",
    "import docx\n",
    "doc=docx.Document()\n",
    "doc.add_paragraph(\"Hello there!\")\n",
    "doc.save('docs2.docx')"
   ]
  },
  {
   "cell_type": "code",
   "execution_count": null,
   "id": "899384a4",
   "metadata": {},
   "outputs": [],
   "source": [
    "12. What integers represent the levels of headings available in Word documents?\n",
    "Ans- The integers 0,1,2,3, and 4"
   ]
  }
 ],
 "metadata": {
  "kernelspec": {
   "display_name": "Python 3 (ipykernel)",
   "language": "python",
   "name": "python3"
  },
  "language_info": {
   "codemirror_mode": {
    "name": "ipython",
    "version": 3
   },
   "file_extension": ".py",
   "mimetype": "text/x-python",
   "name": "python",
   "nbconvert_exporter": "python",
   "pygments_lexer": "ipython3",
   "version": "3.9.7"
  }
 },
 "nbformat": 4,
 "nbformat_minor": 5
}
