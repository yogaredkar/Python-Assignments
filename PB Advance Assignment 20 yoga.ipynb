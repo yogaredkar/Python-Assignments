{
 "cells": [
  {
   "cell_type": "code",
   "execution_count": null,
   "id": "5cf73f48",
   "metadata": {},
   "outputs": [],
   "source": [
    "\n",
    "1. Compare and contrast the float and Decimal classes' benefits and drawbacks ?\n",
    "Ans: Both the float and decimal types store numerical values in Python.\n",
    "\n",
    "Use floats when convenience and speed matter. A float gives you an approximation of the number you declare.\n",
    "\n",
    "Use decimals when precision matters. Decimals can suffer from their own precision issues, but generally, decimals are more precise than floats.\n",
    "The performance difference between float and decimal, with Python 3, is not outlandish, and in my experience, the precision benefits of a decimal outweigh the performance benefits of a float.\n"
   ]
  },
  {
   "cell_type": "code",
   "execution_count": null,
   "id": "e359faa2",
   "metadata": {},
   "outputs": [],
   "source": [
    "2.Decimal('1.200') and Decimal('1.2') are two objects to consider. In what sense are these the same object? \n",
    "Are these just two ways of representing the exact same value, or do they correspond to different internal states ?\n",
    "Ans: Both values are same but internal representation at storage Is different. \n",
    "    Precsion differs, Decimal('1.200') gives internally 1.200 and Decimal('1.2') gives 1.2.\n"
   ]
  },
  {
   "cell_type": "code",
   "execution_count": null,
   "id": "522b494f",
   "metadata": {},
   "outputs": [],
   "source": [
    "3.What happens if the equality of Decimal('1.200') and Decimal('1.2') is checked ?\n",
    "Ans: Both values are checked to be equal , they only differ in precision.\n"
   ]
  },
  {
   "cell_type": "code",
   "execution_count": null,
   "id": "270212c5",
   "metadata": {},
   "outputs": [],
   "source": [
    "4. Why is it preferable to start a Decimal object with a string rather than a floating-point value?\n",
    "Ans: Floating-point value is converted to Decimal format. Decimal can store float value with absolute precision. But when float value is given as Decimal object,it first has to be converted from floating point value which might already have rounding error.\n",
    "Hence it is preferable to start a Decimal object with a string.\n"
   ]
  },
  {
   "cell_type": "code",
   "execution_count": null,
   "id": "181950e7",
   "metadata": {},
   "outputs": [],
   "source": [
    "5. In an arithmetic phrase, how simple is it to combine Decimal objects with integers?\n",
    "Ans: We can do it with use of Decimal().\n"
   ]
  },
  {
   "cell_type": "code",
   "execution_count": null,
   "id": "6ea8d9e3",
   "metadata": {},
   "outputs": [],
   "source": [
    "6. Can Decimal objects and floating-point values be combined easily?\n",
    "Ans: Arithmetic operfations like Adding,subtracting or multiplying a Decimal object by a floating-point value is generates an error.\n",
    "\n",
    "To do these operations, the floating point has to be converted to a Decimal.\n"
   ]
  },
  {
   "cell_type": "code",
   "execution_count": null,
   "id": "03086163",
   "metadata": {},
   "outputs": [],
   "source": [
    "7. Using the Fraction class but not the Decimal class, give an example of a quantity that can be\n",
    "expressed with absolute precision.\n",
    "Ans: Value of 0.5 will be represented as ½.\n"
   ]
  },
  {
   "cell_type": "code",
   "execution_count": null,
   "id": "d055679c",
   "metadata": {},
   "outputs": [],
   "source": [
    "Q9.Consider the following two fraction objects: Fraction(1, 2) and Fraction(1, 2). (5, 10). Is the internal\n",
    "state of these two objects the same? Why do you think that is?\n",
    "Ans: Both will be reduced to 1/2\n"
   ]
  },
  {
   "cell_type": "code",
   "execution_count": null,
   "id": "ad2d047b",
   "metadata": {},
   "outputs": [],
   "source": [
    "Q10. How do the Fraction class and the integer type (int) relate to each other? Containment or\n",
    "inheritance?\n",
    "Ans: Fraction class and integer type(int) are related in form of a container.It contains two ints, one the numerator and the other the denominator"
   ]
  },
  {
   "cell_type": "code",
   "execution_count": null,
   "id": "5418f1e0",
   "metadata": {},
   "outputs": [],
   "source": []
  }
 ],
 "metadata": {
  "kernelspec": {
   "display_name": "Python 3 (ipykernel)",
   "language": "python",
   "name": "python3"
  },
  "language_info": {
   "codemirror_mode": {
    "name": "ipython",
    "version": 3
   },
   "file_extension": ".py",
   "mimetype": "text/x-python",
   "name": "python",
   "nbconvert_exporter": "python",
   "pygments_lexer": "ipython3",
   "version": "3.9.7"
  }
 },
 "nbformat": 4,
 "nbformat_minor": 5
}
