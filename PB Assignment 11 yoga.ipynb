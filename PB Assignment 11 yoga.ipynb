{
 "cells": [
  {
   "cell_type": "code",
   "execution_count": null,
   "id": "33caff39",
   "metadata": {},
   "outputs": [],
   "source": [
    "#1. Create an assert statement that throws an AssertionError if the variable spam is a negative integer.\n",
    "\n",
    "spam=int(input('enter a an integer'))\n",
    "try:\n",
    "    assert spam >=0,'AssertionError: Enter value greater than 0'\n",
    "except AssertionError as e:\n",
    "    print(e)\n",
    "enter a an integer-9\n",
    "AssertionError: Enter value greater than 0"
   ]
  },
  {
   "cell_type": "code",
   "execution_count": null,
   "id": "a61ed1ff",
   "metadata": {},
   "outputs": [],
   "source": [
    "#Q2. Write an assert statement that triggers an AssertionError if the variables eggs and bacon contain strings that are the same as each other, even if their cases are different (that is, 'hello' and 'hello' are considered the same, and 'goodbye' and 'GOODbye' are also considered the same).\n",
    "\n",
    "eggs=input('Enter a string value for \"eggs\"')\n",
    "bacon=input('Enter a string value for \"bacon\"')\n",
    "try:\n",
    "    assert eggs.casefold()!=bacon.casefold(),'AssertionError: String  of \"eggs\" & \"bacon\" are equal'\n",
    "    print('Value of \"eggs = {}\" and value of \"bacon = {}\"'.format(eggs,bacon))\n",
    "except AssertionError as e:\n",
    "    print(e)\n",
    "Enter a string value for \"eggs\"Good Morning\n",
    "Enter a string value for \"bacon\"Good Morning\n",
    "AssertionError: String  of \"eggs\" & \"bacon\" are equal"
   ]
  },
  {
   "cell_type": "code",
   "execution_count": null,
   "id": "b044cdb8",
   "metadata": {},
   "outputs": [],
   "source": [
    "#3. Create an assert statement that throws an AssertionError every time.\n",
    "\n",
    "a=input('Enter a value for \"a\" ')\n",
    "b=input('Enter a value for \"b\" ')\n",
    "try:\n",
    "    assert False,\"AssertionError: Value of a={} & b={}\".format(a,b)\n",
    "except AssertionError as e:\n",
    "    print(e)\n",
    "Enter a value for \"a\" 23\n",
    "Enter a value for \"b\" 43\n",
    "AssertionError: Value of a=23 & b=43"
   ]
  },
  {
   "cell_type": "code",
   "execution_count": null,
   "id": "b3a6f416",
   "metadata": {},
   "outputs": [],
   "source": [
    "#4. What are the two lines that must be present in your software in order to call logging.debug()?\n",
    "\n",
    "import logging\n",
    "logging.basicConfig(filename=\"log_file.log\",level=logging.DEBUG,format='%(asctime)s %(levelname)s %(message)s')\n",
    "\n",
    "logging.debug('This is debugging error')"
   ]
  },
  {
   "cell_type": "code",
   "execution_count": null,
   "id": "3f2f9d29",
   "metadata": {},
   "outputs": [],
   "source": [
    "#5. What are the two lines that your program must have in order to have logging.debug() send a logging message to a file named programLog.txt?\n",
    "\n",
    "import logging\n",
    "logging.basicConfig(filename=\"log_file.log\",level=logging.DEBUG,format='%(asctime)s %(levelname)s %(message)s')\n",
    "\n",
    "logging.debug('This is debugging error')"
   ]
  },
  {
   "cell_type": "code",
   "execution_count": null,
   "id": "3c0bf1f9",
   "metadata": {},
   "outputs": [],
   "source": [
    "6. What are the five levels of logging?\n",
    "Ans- Five levels of logging are:\n",
    "  1. DEBUG: Detailed information, for diagnosing problems.\n",
    "  2. INFO: Confirm things are working as expected.\n",
    "  3. WARNING: Something unexpected happened, or indicative of some problem. But the software is still working as expected.\n",
    "  4. ERROR: More serious problem, the software is not able to perform some function.\n",
    "  5. CRITICAL: A serious error, the program itself may be unable to continue running."
   ]
  },
  {
   "cell_type": "code",
   "execution_count": null,
   "id": "e9e8b342",
   "metadata": {},
   "outputs": [],
   "source": [
    "7. What line of code would you add to your software to disable all logging messages?\n",
    "Ans- logging.disable(level=50)"
   ]
  },
  {
   "cell_type": "code",
   "execution_count": null,
   "id": "1cb63867",
   "metadata": {},
   "outputs": [],
   "source": [
    "8.Why is using logging messages better than using print() to display the same message?\n",
    "Ans- The Python logging library lets you:\n",
    "1. Control what’s emitted\n",
    "2. Define what types of information you want to include in your logs\n",
    "3. Configure how it looks when it’s emitted\n",
    "4. Most importantly, set the destination for your logs"
   ]
  },
  {
   "cell_type": "code",
   "execution_count": null,
   "id": "f02279ec",
   "metadata": {},
   "outputs": [],
   "source": [
    "9. What are the differences between the Step Over, Step In, and Step Out buttons in the debugger?\n",
    "Ans- 1. Step Over command: \n",
    "  This command lets the application execute the next action. If the action involves a call to an operation, it does not step into its implementation (it steps over it instead).\n",
    "2.Step Into command: Steps into the method to show what happens inside it. Use this option when you are not sure the method is returning a correct result.\n",
    "3.Step Out command: Steps out of the current method and takes you to the caller method."
   ]
  },
  {
   "cell_type": "code",
   "execution_count": null,
   "id": "e11c2adc",
   "metadata": {},
   "outputs": [],
   "source": [
    "10.After you click Continue, when will the debugger stop ?\n",
    "Ans-  After clicking 'Continue' debugger will stop at next breakpoint, if any."
   ]
  },
  {
   "cell_type": "code",
   "execution_count": null,
   "id": "b6ece8b2",
   "metadata": {},
   "outputs": [],
   "source": [
    "11. What is the concept of a breakpoint?\n",
    "Ans- In software development, a breakpoint is an intentional stopping or pausing place in a program, put in place for debugging purposes. It is also sometimes simply referred to as a pause. \n",
    "More generally, a breakpoint is a means of acquiring knowledge about a program during its execution."
   ]
  }
 ],
 "metadata": {
  "kernelspec": {
   "display_name": "Python 3 (ipykernel)",
   "language": "python",
   "name": "python3"
  },
  "language_info": {
   "codemirror_mode": {
    "name": "ipython",
    "version": 3
   },
   "file_extension": ".py",
   "mimetype": "text/x-python",
   "name": "python",
   "nbconvert_exporter": "python",
   "pygments_lexer": "ipython3",
   "version": "3.9.7"
  }
 },
 "nbformat": 4,
 "nbformat_minor": 5
}
