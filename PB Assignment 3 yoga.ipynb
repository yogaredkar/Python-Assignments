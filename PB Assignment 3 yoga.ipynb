{
 "cells": [
  {
   "cell_type": "code",
   "execution_count": null,
   "id": "55506959",
   "metadata": {},
   "outputs": [],
   "source": [
    "1.Why are functions advantageous to have in your programs?\n",
    "Ans- Functions reduce the need for duplicate code. This makes programs shorter, easier to read, and easier to update.\n"
   ]
  },
  {
   "cell_type": "code",
   "execution_count": null,
   "id": "93c18546",
   "metadata": {},
   "outputs": [],
   "source": [
    "2.When does the code in a function run: when it's specified or when it's called?\n",
    "Ans-The code in a function executes when the function is called, not when the function is defined.\n"
   ]
  },
  {
   "cell_type": "code",
   "execution_count": null,
   "id": "55e3d1be",
   "metadata": {},
   "outputs": [],
   "source": [
    "3.What statement creates a function?\n",
    "Ans- The def statement defines (that is, creates) a function.\n"
   ]
  },
  {
   "cell_type": "code",
   "execution_count": null,
   "id": "21ddb17d",
   "metadata": {},
   "outputs": [],
   "source": [
    "4.What is the difference between a function and a function call?\n",
    "Ans-A function consists of the def statement and the code in its def clause.\n",
    "A function call is what moves the program execution into the function, and the function call evaluates to the function's return value.\n"
   ]
  },
  {
   "cell_type": "code",
   "execution_count": null,
   "id": "dac8c1ff",
   "metadata": {},
   "outputs": [],
   "source": [
    "5.How many global scopes are there in a Python program? How many local scopes?\n",
    "Ans- There are four types of variable scope in Python:\n",
    "Local Scope- A variable created inside a function belongs to the local scope of that function, and can only be used inside that function.\n",
    "Global Scope- A variable created in the main body of the Python code is a global variable and belongs to the global scope. Global variables are available from within any scope, global and local.\n",
    "Enclosing Scope-A python variable scope that isn’t global or local is nonlocal. This is also called the enclosing scope.\n",
    "Built-in Scope- If a Variable is not defined in local, Enclosed or global scope, then python looks for it in the built-in scope.\n",
    "\n",
    "There is only one global Python scope per program execution. This scope remains in existence until the program terminates and all its names are forgotten. Otherwise, the next time you were to run the program, the names would remember their values from the previous run.\n",
    "Local scopes- Every time you call a function, you create a new local scope\n"
   ]
  },
  {
   "cell_type": "code",
   "execution_count": null,
   "id": "f5267d4e",
   "metadata": {},
   "outputs": [],
   "source": [
    "6.What happens to variables in a local scope when the function call returns?\n",
    "Ans- When the execution of the function terminates (returns), the local variables are destroyed. Codelens helps you visualize this because the local variables disappear after the function returns.\n"
   ]
  },
  {
   "cell_type": "code",
   "execution_count": null,
   "id": "1b096283",
   "metadata": {},
   "outputs": [],
   "source": [
    "7.What is the concept of a return value? Is it possible to have a return value in an expression?\n",
    "Ans- A return statement is used to end the execution of the function call and “returns” the result (value of the expression following the return keyword) to the caller. The statements after the return statements are not executed. If the return statement is without any expression, then the special value None is returned. \n",
    "Note: Return statement can not be used outside the function.\n"
   ]
  },
  {
   "cell_type": "code",
   "execution_count": null,
   "id": "0a7192a9",
   "metadata": {},
   "outputs": [],
   "source": [
    "8.If a function does not have a return statement, what is the return value of a call to that function?\n",
    "Ans- n Python, every function returns something. If there are no return statements, then it returns None. If the return statement contains an expression, it's evaluated first and then the value is returned. The return statement terminates the function execution.\n"
   ]
  },
  {
   "cell_type": "code",
   "execution_count": null,
   "id": "1ba4dc81",
   "metadata": {},
   "outputs": [],
   "source": [
    "9.How do you make a function variable refer to the global variable?\n",
    "Ans- If your function has a local variable with same name as global variable and you want to modify the global variable inside function then use 'global' keyword before the variable name at start of function\n"
   ]
  },
  {
   "cell_type": "code",
   "execution_count": null,
   "id": "03d68215",
   "metadata": {},
   "outputs": [],
   "source": [
    "10.What is the data type of None?\n",
    "Ans- None is used to define a null value. It is not the same as an empty string, False, or a zero. It is a data type of the class NoneType object. \n"
   ]
  },
  {
   "cell_type": "code",
   "execution_count": null,
   "id": "a4f1bbcc",
   "metadata": {},
   "outputs": [],
   "source": [
    "11.What does the sentence import are all your pets name derrick do?\n",
    "Ans- The import statement reads the code in a Python module and allows you to use it in another file\n"
   ]
  },
  {
   "cell_type": "code",
   "execution_count": null,
   "id": "11ea5021",
   "metadata": {},
   "outputs": [],
   "source": [
    "12.If you had a bacon() feature in a spam module, what would you call it after importing spam?\n",
    "Ans- This function can be called as spam.bacon()\n"
   ]
  },
  {
   "cell_type": "code",
   "execution_count": null,
   "id": "ee866bc0",
   "metadata": {},
   "outputs": [],
   "source": [
    "13.What can you do to save a programme from crashing if it encounters an error?\n",
    "Ans- When it encounters an error, the control is passed to the except block, skipping the code in between. As seen in the above code, we have moved our code inside a try and except statement. Try running the program and it should throw an error message instead of crashing the program.\n"
   ]
  },
  {
   "cell_type": "code",
   "execution_count": null,
   "id": "1f1e2b02",
   "metadata": {},
   "outputs": [],
   "source": [
    "14.What is the purpose of the try clause? What is the purpose of the except clause?\n",
    "Ans- The try block allows you to test a block of code for errors. The except block enables you to handle the error with a user-defined response."
   ]
  }
 ],
 "metadata": {
  "kernelspec": {
   "display_name": "Python 3 (ipykernel)",
   "language": "python",
   "name": "python3"
  },
  "language_info": {
   "codemirror_mode": {
    "name": "ipython",
    "version": 3
   },
   "file_extension": ".py",
   "mimetype": "text/x-python",
   "name": "python",
   "nbconvert_exporter": "python",
   "pygments_lexer": "ipython3",
   "version": "3.9.7"
  }
 },
 "nbformat": 4,
 "nbformat_minor": 5
}
