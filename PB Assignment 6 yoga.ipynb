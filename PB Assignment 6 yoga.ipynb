{
 "cells": [
  {
   "cell_type": "code",
   "execution_count": null,
   "id": "7ae7cb1c",
   "metadata": {},
   "outputs": [],
   "source": [
    "Q1. Describe three applications for exception processing.\n",
    "Ans- Try and Except Statement – Catching Exceptions\n",
    "Try and except statements are used to catch and handle exceptions in Python.\n",
    "Statements that can raise exceptions are kept inside the try clause and the statements that handle the exception are written inside except clause.\n",
    "Try with Else Clause\n",
    "In python, you can also use the else clause on the try-except block which must be present after all the except clauses. \n",
    "The code enters the else block only if the try clause does not raise an exception.\n",
    "Raising Exception\n",
    "The raise statement allows the programmer to force a specific exception to occur. The sole argument in raise indicates the exception to be raised. \n",
    "This must be either an exception instance or an exception class (a class that derives from Exception).\n"
   ]
  },
  {
   "cell_type": "code",
   "execution_count": null,
   "id": "c063c23c",
   "metadata": {},
   "outputs": [],
   "source": [
    "Q2. What happens if you don't do something extra to treat an exception?\n",
    "Ans- When an exception occurred, if you don't handle it, the program terminates abruptly and the code past the line that caused the exception will not get executed.\n",
    " If an exception is not caught (with a catch block), the runtime system will abort the program (i.e. crash) and an exception message will print to the console.\n"
   ]
  },
  {
   "cell_type": "code",
   "execution_count": null,
   "id": "ee2ac5f9",
   "metadata": {},
   "outputs": [],
   "source": [
    "Q3. What are your options for recovering from an exception in your script?\n",
    "Ans- a. Exception - Base class for all exceptions\n",
    "     b. StopIteration - Raised when the next() method of an iterator does not point to any object.\n",
    "     c. SystemExit - Raised by the sys.exit() function.\n",
    "     d. StandardError - Base class for all built-in exceptions except StopIteration and SystemExit.\n",
    "     e. ArithmeticError - Base class for all errors that occur for numeric calculation.\n"
   ]
  },
  {
   "cell_type": "code",
   "execution_count": null,
   "id": "2412f6b7",
   "metadata": {},
   "outputs": [],
   "source": [
    "Q4. Describe two methods for triggering exceptions in your script.\n",
    "Ans- To avoid such a scenario, there are two methods to handle Python exceptions:\n",
    "Try – This method catches the exceptions raised by the program.\n",
    "Raise – Triggers an exception manually using custom exceptions.\n"
   ]
  },
  {
   "cell_type": "code",
   "execution_count": null,
   "id": "d7e136f0",
   "metadata": {},
   "outputs": [],
   "source": [
    "Q5. Identify two methods for specifying actions to be executed at termination time, regardless of whether or not an exception exists.\n",
    "Ans- Use a try-and-except block and raise to stop running a program when an exception. \n",
    "Create a try-and-except block. If the code in the try-statement raises an exception, the program continues to the except-statement.\n",
    "In the except-statement, call raise to stop running the program and print the exception traceback.\n",
    " "
   ]
  },
  {
   "cell_type": "code",
   "execution_count": null,
   "id": "2caa101e",
   "metadata": {},
   "outputs": [],
   "source": []
  }
 ],
 "metadata": {
  "kernelspec": {
   "display_name": "Python 3 (ipykernel)",
   "language": "python",
   "name": "python3"
  },
  "language_info": {
   "codemirror_mode": {
    "name": "ipython",
    "version": 3
   },
   "file_extension": ".py",
   "mimetype": "text/x-python",
   "name": "python",
   "nbconvert_exporter": "python",
   "pygments_lexer": "ipython3",
   "version": "3.9.7"
  }
 },
 "nbformat": 4,
 "nbformat_minor": 5
}
