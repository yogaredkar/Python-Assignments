{
 "cells": [
  {
   "cell_type": "code",
   "execution_count": null,
   "id": "6a99d3ed",
   "metadata": {},
   "outputs": [],
   "source": [
    "\n",
    "Q1. What is a probability distribution, exactly? If the values are meant to be random, how can you predict them at all ?\n",
    "\n",
    "Ans: A probability distribution describes how a random variable is distributed.\n",
    "\n",
    "It tells us which values a random variable is most likely to take on and which values are less likely. Based on the previous data and the occurences of the random event, we can predict the outcome in terms of probabilities.\n"
   ]
  },
  {
   "cell_type": "code",
   "execution_count": null,
   "id": "efa5bcaa",
   "metadata": {},
   "outputs": [],
   "source": [
    "Q2. Is there a distinction between true random numbers and pseudo-random numbers, if there is one? Why are the latter considered “good enough”?\n",
    "\n",
    "Ans: : True Random Numbers are true physical values while pseudo-random numbers are generated internally by a program . Latter is considered good enough as they have sort of uniform distribution.\n"
   ]
  },
  {
   "cell_type": "code",
   "execution_count": null,
   "id": "0d80937e",
   "metadata": {},
   "outputs": [],
   "source": [
    "Q3. What are the two main factors that influence the behaviour of a \"normal\" probability distribution ?\n",
    "\n",
    "Ans: Normal Probability Distribution are influenced by two factors mean and the variance.\n"
   ]
  },
  {
   "cell_type": "code",
   "execution_count": null,
   "id": "dc019241",
   "metadata": {},
   "outputs": [],
   "source": [
    "Q4. Provide a real-life example of a normal distribution ?\n",
    "\n",
    "Ans: A Real-life example of a normal distribution are heights or blood pressure measurements\n"
   ]
  },
  {
   "cell_type": "code",
   "execution_count": null,
   "id": "5c162efd",
   "metadata": {},
   "outputs": [],
   "source": [
    "Q5. In the short term, how can you expect a probability distribution to behave? What do you think will happen as the number of trials grows ?\n",
    "\n",
    "Ans: Variance will decrease with number of trials\n"
   ]
  },
  {
   "cell_type": "code",
   "execution_count": null,
   "id": "f8b132ae",
   "metadata": {},
   "outputs": [],
   "source": [
    "Q6. What kind of object can be shuffled by using random.shuffle ?\n",
    "\n",
    "Ans: lists (list), strings (str) and tuples (tuple) objects can be shuffled by using random.shuffle.\n"
   ]
  },
  {
   "cell_type": "code",
   "execution_count": null,
   "id": "3f67c0f4",
   "metadata": {},
   "outputs": [],
   "source": [
    "Q7. Describe the math package's general categories of functions ?\n",
    "\n",
    "Ans: The Math package's general categories of functions are:\n",
    "\n",
    "Trigonometric functions Quadratic functions Exponential functions Hyperbolic functions Periodic functions Arithmetic functions Logarithimic functions Conversions to Integer\n"
   ]
  },
  {
   "cell_type": "code",
   "execution_count": null,
   "id": "00d89adc",
   "metadata": {},
   "outputs": [],
   "source": [
    "Q8. What is the relationship between exponentiation and logarithms ?\n",
    "\n",
    "Ans: Exponentiation and logarithms are inverse of each other.\n"
   ]
  },
  {
   "cell_type": "code",
   "execution_count": null,
   "id": "a7390912",
   "metadata": {},
   "outputs": [],
   "source": [
    "Q9. What are the three logarithmic functions that Python supports ?\n",
    "\n",
    "Ans: The Three Logarithmic Functions that Python supports are:\n",
    "\n",
    "log2(x) - logarithmic value of x to base 2 log10(x) - logarithmic value of x to base 10 log1p(a) - This function is used to compute logarithm(1+a) .\n",
    " "
   ]
  },
  {
   "cell_type": "code",
   "execution_count": null,
   "id": "8ac633da",
   "metadata": {},
   "outputs": [],
   "source": []
  },
  {
   "cell_type": "code",
   "execution_count": null,
   "id": "f2c664d7",
   "metadata": {},
   "outputs": [],
   "source": []
  },
  {
   "cell_type": "code",
   "execution_count": null,
   "id": "10039163",
   "metadata": {},
   "outputs": [],
   "source": []
  }
 ],
 "metadata": {
  "kernelspec": {
   "display_name": "Python 3 (ipykernel)",
   "language": "python",
   "name": "python3"
  },
  "language_info": {
   "codemirror_mode": {
    "name": "ipython",
    "version": 3
   },
   "file_extension": ".py",
   "mimetype": "text/x-python",
   "name": "python",
   "nbconvert_exporter": "python",
   "pygments_lexer": "ipython3",
   "version": "3.9.7"
  }
 },
 "nbformat": 4,
 "nbformat_minor": 5
}
