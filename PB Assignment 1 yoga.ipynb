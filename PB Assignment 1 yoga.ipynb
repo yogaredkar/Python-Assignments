{
 "cells": [
  {
   "cell_type": "code",
   "execution_count": null,
   "id": "912b0c12",
   "metadata": {},
   "outputs": [],
   "source": [
    "#1. In the below elements which of them are values or an expression? eg:- values can be integer or string and expressions will be mathematical operators.\n",
    "* = Expression\n",
    "'hello'= String Value\n",
    "-87.8= Integer Value\n",
    "- = Expression\n",
    "/ = Expression\n",
    "+ = Expression\n",
    "6 = Integer"
   ]
  },
  {
   "cell_type": "code",
   "execution_count": null,
   "id": "329bcc47",
   "metadata": {},
   "outputs": [],
   "source": [
    "2. What is the difference between string and variable?\n",
    "Ans- String- A String is a literal text. eg. \"Hello\". String is atype of variable and is written between quotes(\"\"). A string is made up of characters which includes letters, words, phrases or symbols.         \n",
    "Variable- A variable is something that stores data, it can be string, int, float, class,etc.Variables are used to store values, information in a program. Variable can store numbers, strings, boolean values, lists, dictionaries, etc."
   ]
  },
  {
   "cell_type": "code",
   "execution_count": null,
   "id": "f9084508",
   "metadata": {},
   "outputs": [],
   "source": [
    "\n",
    "3. Describe three different data types.\n",
    "Ans- a) Numeric- Numeric value can be integer(int), floating number(float) or even complex numbers (complex class) in Python.\n",
    "                 Integer contains positive or negative whole numbers (without fraction or decimal).\n",
    "                 Float value is represented by float class. It is a real number with floating point representation. It is specified by a decimal point.\n",
    "                 Complex number is represented by complex class. It is specified as (real part) + (imaginary part)j.\n",
    "    b) Sequence- Sequence is the ordered collection of similar or different data types. Some types of Sequence are String, List and Tuple.\n",
    "                 A string is a collection of one or more characters put in a single quote, double-quote or triple quote. \n",
    "                 Lists are just like the arrays, declared in other languages which is a ordered collection of data. \n",
    "                 Tuple is also an ordered collection of Python objects. Tuples cannot be modified after it is created.\n",
    "    c) Boolean- Boolean objects that are equal to True are truthy (true), and those equal to False are falsy (false). \n",
    "                True and False with capital ‘T’ and ‘F’ are valid booleans"
   ]
  },
  {
   "cell_type": "code",
   "execution_count": null,
   "id": "74c44d25",
   "metadata": {},
   "outputs": [],
   "source": [
    "4. What is an expression made up of? What do all expressions do?\n",
    "Ans- Expression is made up of values, containers, and mathematical operators (operands) e.g a = 2 + 3 and expressions are used to evaluate the values or represent the result on the screen.\n",
    "Operators   Syntax    Functioning\n",
    "+           x + y        Addition\n",
    "–           x – y        Subtraction\n",
    "*           x * y      Multiplication\n",
    "/           x / y         Division\n",
    "//          x // y       Quotient\n",
    "%           x % y         Remainder\n",
    "**         x ** y     Exponentiation"
   ]
  },
  {
   "cell_type": "code",
   "execution_count": null,
   "id": "05a20f52",
   "metadata": {},
   "outputs": [],
   "source": [
    "5. This assignment statements, like spam = 10. What is the difference between an expression and a statement?\n",
    "ans= In assignment structure spam=10, Spam is a variable. Expression is made up of values, containers, and mathematical operators (operands) and the statement is just like a command that a python interpreter executes like print."
   ]
  },
  {
   "cell_type": "code",
   "execution_count": null,
   "id": "afbe4881",
   "metadata": {},
   "outputs": [],
   "source": [
    "\n",
    "6. After running the following code, what does the variable bacon contain?\n",
    "bacon = 22\n",
    "bacon + 1\n",
    "23"
   ]
  },
  {
   "cell_type": "code",
   "execution_count": null,
   "id": "197cf68e",
   "metadata": {},
   "outputs": [],
   "source": [
    "#7. What should the values of the following two terms be?\n",
    "print('spam' + 'spamspam')\n",
    "print('spam' * 3)\n",
    "spamspamspam\n",
    "spamspamspam"
   ]
  },
  {
   "cell_type": "code",
   "execution_count": null,
   "id": "282b9e64",
   "metadata": {},
   "outputs": [],
   "source": [
    "8. Why is eggs a valid variable name while 100 is invalid?\n",
    "Every variable must contain aplhabetical character, we cant start giving variable as an integer whereas 100 is a numeric value. eggs100 is valid"
   ]
  },
  {
   "cell_type": "code",
   "execution_count": null,
   "id": "177fcb6a",
   "metadata": {},
   "outputs": [],
   "source": [
    "#9. What three functions can be used to get the integer, floating-point number, or string version of a value?\n",
    "Ans- Integer= int()\n",
    "     Floating point number= float()\n",
    "     String= str()"
   ]
  },
  {
   "cell_type": "code",
   "execution_count": null,
   "id": "107c24d1",
   "metadata": {},
   "outputs": [],
   "source": [
    "#10. Why does this expression cause an error? How can you fix it?\n",
    "'I have eaten ' + '99' + ' burritos.'\n",
    "#In above expression, string +integer will not work hence it is causing error.(TypeError: can only concatenate str (not \"int\") to str)\n",
    "'I have eaten 99 burritos.'\n",
    " "
   ]
  }
 ],
 "metadata": {
  "kernelspec": {
   "display_name": "Python 3 (ipykernel)",
   "language": "python",
   "name": "python3"
  },
  "language_info": {
   "codemirror_mode": {
    "name": "ipython",
    "version": 3
   },
   "file_extension": ".py",
   "mimetype": "text/x-python",
   "name": "python",
   "nbconvert_exporter": "python",
   "pygments_lexer": "ipython3",
   "version": "3.9.7"
  }
 },
 "nbformat": 4,
 "nbformat_minor": 5
}
