{
 "cells": [
  {
   "cell_type": "code",
   "execution_count": null,
   "id": "2a142285",
   "metadata": {},
   "outputs": [],
   "source": [
    "1.\tWrite a Python program to print \"Hello Python\"?\n",
    "s=\"Hello Python\"\n",
    "print(s)\n",
    "Hello Python\n"
   ]
  },
  {
   "cell_type": "code",
   "execution_count": null,
   "id": "7b91417e",
   "metadata": {},
   "outputs": [],
   "source": [
    "2.\tWrite a Python program to do arithmetical operations addition and division.?\n",
    "a=50\n",
    "b=20\n",
    "print(a+b)\n",
    "70\n",
    "print(a/b)\n",
    "2.5\n"
   ]
  },
  {
   "cell_type": "code",
   "execution_count": null,
   "id": "fe4908af",
   "metadata": {},
   "outputs": [],
   "source": [
    "3.\tWrite a Python program to find the area of a triangle?\n",
    "a = float(input('Enter the length of first side: '))  \n",
    "b = float(input('Enter  the length of second side: '))  \n",
    "c = float(input('Enter  the length of third side: '))  \n",
    "s = (a + b + c) / 2  \n",
    "Area = (s*(s-a)*(s-b)*(s-c)) ** 0.5  \n",
    "print('The area of the triangle is %0.2f' %Area)\n",
    "Enter the length of first side: 23\n",
    "Enter  the length of second side: 25\n",
    "Enter  the length of third side: 10\n",
    "The area of the triangle is 115.00\n"
   ]
  },
  {
   "cell_type": "code",
   "execution_count": null,
   "id": "5b0ef4e4",
   "metadata": {},
   "outputs": [],
   "source": [
    "4.\tWrite a Python program to swap two variables\n",
    "d = 5\n",
    "e = 10\n",
    "\n",
    "d,e = e,d\n",
    "print(\"d =\", d)\n",
    "print(\"e =\", e)\n",
    "d = 10\n",
    "e = 5\n",
    "\n",
    " "
   ]
  },
  {
   "cell_type": "code",
   "execution_count": null,
   "id": "cdcb702f",
   "metadata": {},
   "outputs": [],
   "source": [
    "5.Write a Python program to generate a random number?\n",
    "import random  \n",
    "n = random.random()  \n",
    "print(n)  \n",
    "0.60468409171021\n",
    "import random  \n",
    "n = random.random()  \n",
    "print(n)  \n",
    "0.7440523600590512\n",
    "import random  \n",
    "n = random.randint(0,20)  \n",
    "print(n)  \n",
    "12"
   ]
  }
 ],
 "metadata": {
  "kernelspec": {
   "display_name": "Python 3 (ipykernel)",
   "language": "python",
   "name": "python3"
  },
  "language_info": {
   "codemirror_mode": {
    "name": "ipython",
    "version": 3
   },
   "file_extension": ".py",
   "mimetype": "text/x-python",
   "name": "python",
   "nbconvert_exporter": "python",
   "pygments_lexer": "ipython3",
   "version": "3.9.7"
  }
 },
 "nbformat": 4,
 "nbformat_minor": 5
}
