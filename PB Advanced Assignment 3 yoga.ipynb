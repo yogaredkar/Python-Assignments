{
 "cells": [
  {
   "cell_type": "code",
   "execution_count": null,
   "id": "083d61e6",
   "metadata": {},
   "outputs": [],
   "source": [
    "1. What is the concept of an abstract superclass?\n",
    "\n",
    "Ans- A common superclass for several subclasses.\n",
    "Factor up common behavior\n",
    "Define the methods they all respond to.\n",
    "Methods that subclasses should implement are declared abstract\n",
    "Instances of the subclasses are created, but no instances of the superclass.\n",
    "A class is called an Abstract class if it contains one or more abstract methods. An abstract method is a method that is declared, but contains no implementation. \n",
    "Abstract classes may not be instantiated, and its abstract methods must be implemented by its subclasses.\n"
   ]
  },
  {
   "cell_type": "code",
   "execution_count": null,
   "id": "b736ecc8",
   "metadata": {},
   "outputs": [],
   "source": [
    "2. What happens when a class statement's top level contains a basic assignment statement?\n",
    "Ans- When a Class statement's top level contains a basic assignment statement, its usually treated as a class attribute or class level variable.\n",
    "\n",
    "where as assignment statements inside methods are treated as instance attributes or local attributes.\n",
    "\n",
    "When an instance of a class is created a single copy of class attributes is maintained and shared to all instances of class. where as each instance object maintains its own copy of instance variables.\n"
   ]
  },
  {
   "cell_type": "code",
   "execution_count": null,
   "id": "dac8357e",
   "metadata": {},
   "outputs": [],
   "source": [
    "3. Why does a class need to manually call a superclass's __init__ method?\n",
    "Ans- If a child class has init method, then it will not inherit the init method of the parent class. in other words the init method of the child class overrides the init method of the parent class. so we have to manually call a parent superclass's init using super() method\n",
    "It's because one needs to define something that is NOT done in the base-class' __init__ , and the only possibility to obtain that is to put its execution in a derived-class' __init__ function.\n",
    "All methods that are called with super() need to have a call to their superclass's version of that method. This means that you will need to add super(). __init__() to the . __init__() methods of Triangle and Rectangle .\n"
   ]
  },
  {
   "cell_type": "code",
   "execution_count": null,
   "id": "0fe5f4fb",
   "metadata": {},
   "outputs": [],
   "source": [
    "4. How can you augment, instead of completely replacing, an inherited method?\n",
    "Ans- super() method can be used to augment, instead of completely replacing, an inherited method.\n",
    "class Person:\n",
    "    def __init__(self,name,gender):\n",
    "        self.name = name\n",
    "        self.gender = gender\n",
    "class Employee(Person):\n",
    "    def __init__(self,name,gender,salary):\n",
    "        super().__init__(name,gender) \n",
    "        self.salary = salary\n",
    "emp_1 = Employee('Manoj','Male',10000)\n",
    "print(emp_1.__dict__)       \n"
   ]
  },
  {
   "cell_type": "code",
   "execution_count": null,
   "id": "75159803",
   "metadata": {},
   "outputs": [],
   "source": [
    "5. How is the local scope of a class different from that of a function?\n",
    "Ans- A Variable which is defined inside a function is local to that function. it is accesible from the point at which it is defined until the end of the function, and exists for as long as the function is existing.\n",
    "\n",
    "Similary a variable inside of a class also has a local variable scope. Variables which are defined in the class body (but outside all methods) are called as class level variables or class attributes. \n",
    "They can be referenced by there bare names within the same scope, but they can also be accessed from outside this scope if we use the attribute access operator (.). on a class or an instance of the class."
   ]
  }
 ],
 "metadata": {
  "kernelspec": {
   "display_name": "Python 3 (ipykernel)",
   "language": "python",
   "name": "python3"
  },
  "language_info": {
   "codemirror_mode": {
    "name": "ipython",
    "version": 3
   },
   "file_extension": ".py",
   "mimetype": "text/x-python",
   "name": "python",
   "nbconvert_exporter": "python",
   "pygments_lexer": "ipython3",
   "version": "3.9.7"
  }
 },
 "nbformat": 4,
 "nbformat_minor": 5
}
