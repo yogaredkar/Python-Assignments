{
 "cells": [
  {
   "cell_type": "code",
   "execution_count": null,
   "id": "c2d11c1e",
   "metadata": {},
   "outputs": [],
   "source": [
    "1. Create a zoo.py file first. Define the hours() function, which prints the string 'Open 9-5 daily'. \n",
    "Then, use the interactive interpreter to import the zoo module and call its hours() function."
   ]
  },
  {
   "cell_type": "code",
   "execution_count": 1,
   "id": "27d72b84",
   "metadata": {},
   "outputs": [
    {
     "name": "stdout",
     "output_type": "stream",
     "text": [
      "Open 9-5 daily\n"
     ]
    }
   ],
   "source": [
    "# Step-1 Creating a zoo.py file and defining an hour() function\n",
    "\n",
    "f=open(\"zoo.py\",\"w\")\n",
    "f.write(\"def hours():\\n   print('Open 9-5 daily')\")\n",
    "f.close()\n",
    "\n",
    "# Step-2 Importing the zoo module and calling its hours() function.\n",
    "import zoo\n",
    "zoo.hours()"
   ]
  },
  {
   "cell_type": "code",
   "execution_count": null,
   "id": "e4c352a5",
   "metadata": {},
   "outputs": [],
   "source": [
    "2. In the interactive interpreter, import the zoo module as menagerie and call its hours() function.\n"
   ]
  },
  {
   "cell_type": "code",
   "execution_count": 2,
   "id": "ed8fc720",
   "metadata": {},
   "outputs": [
    {
     "name": "stdout",
     "output_type": "stream",
     "text": [
      "Open 9-5 daily\n"
     ]
    }
   ],
   "source": [
    "#importing the zoo module as menagerie and call its hours() function.\n",
    "import zoo as menagerie\n",
    "hr=menagerie.hours()\n",
    "hr"
   ]
  },
  {
   "cell_type": "code",
   "execution_count": null,
   "id": "b32f1ccf",
   "metadata": {},
   "outputs": [],
   "source": [
    "3. Using the interpreter, explicitly import and call the hours() function from zoo.\n"
   ]
  },
  {
   "cell_type": "code",
   "execution_count": 3,
   "id": "929c7021",
   "metadata": {},
   "outputs": [
    {
     "name": "stdout",
     "output_type": "stream",
     "text": [
      "Open 9-5 daily\n"
     ]
    }
   ],
   "source": [
    "#explicitly importing and calling the hours() function from zoo\n",
    "from zoo import hours\n",
    "hr=hours()\n",
    "hr"
   ]
  },
  {
   "cell_type": "code",
   "execution_count": null,
   "id": "e42c8925",
   "metadata": {},
   "outputs": [],
   "source": [
    "4. Import the hours() function as info and call it.\n"
   ]
  },
  {
   "cell_type": "code",
   "execution_count": 4,
   "id": "f6de3d50",
   "metadata": {},
   "outputs": [
    {
     "name": "stdout",
     "output_type": "stream",
     "text": [
      "Open 9-5 daily\n"
     ]
    }
   ],
   "source": [
    "from zoo import hours as info\n",
    "info()"
   ]
  },
  {
   "cell_type": "code",
   "execution_count": null,
   "id": "46b241a1",
   "metadata": {},
   "outputs": [],
   "source": [
    "5. Create a plain dictionary with the key-value pairs 'a': 1, 'b': 2, and 'c': 3, and print it out.\n"
   ]
  },
  {
   "cell_type": "code",
   "execution_count": 5,
   "id": "81e7ee8c",
   "metadata": {},
   "outputs": [
    {
     "name": "stdout",
     "output_type": "stream",
     "text": [
      "{'a': 1, 'b': 2, 'c': 3}\n"
     ]
    }
   ],
   "source": [
    "plain_dict={'a':1,'b':2,'c':3}\n",
    "print(plain_dict)"
   ]
  },
  {
   "cell_type": "code",
   "execution_count": null,
   "id": "5ddd6a0b",
   "metadata": {},
   "outputs": [],
   "source": [
    "6.Make an OrderedDict called fancy from the same pairs listed in 5 and print it. Did it print in the\n",
    "same order as plain?\n"
   ]
  },
  {
   "cell_type": "code",
   "execution_count": 6,
   "id": "07025ce0",
   "metadata": {},
   "outputs": [
    {
     "name": "stdout",
     "output_type": "stream",
     "text": [
      "OrderedDict([('a', 1), ('b', 2), ('c', 3)])\n"
     ]
    }
   ],
   "source": [
    "#Yes. We got same order output.\n",
    "from collections import OrderedDict\n",
    "fancy=OrderedDict(plain_dict)\n",
    "print(fancy)"
   ]
  },
  {
   "cell_type": "code",
   "execution_count": null,
   "id": "8fede3fa",
   "metadata": {},
   "outputs": [],
   "source": [
    "7. Make a default dictionary called dict_of_lists and pass it the argument list. Make the list dict_of_lists['a'] and append the value 'something for a' to it in one assignment.\n",
    "Print dict_of_lists['a']."
   ]
  },
  {
   "cell_type": "code",
   "execution_count": 7,
   "id": "b244fcc7",
   "metadata": {},
   "outputs": [
    {
     "name": "stdout",
     "output_type": "stream",
     "text": [
      "something for a\n"
     ]
    }
   ],
   "source": [
    "dict_of_lists={}\n",
    "dict_of_lists['a']='something for a'\n",
    "print(dict_of_lists['a']) "
   ]
  },
  {
   "cell_type": "code",
   "execution_count": null,
   "id": "98ca6d30",
   "metadata": {},
   "outputs": [],
   "source": []
  },
  {
   "cell_type": "code",
   "execution_count": null,
   "id": "b80a74e3",
   "metadata": {},
   "outputs": [],
   "source": []
  },
  {
   "cell_type": "code",
   "execution_count": null,
   "id": "1cc125e8",
   "metadata": {},
   "outputs": [],
   "source": []
  },
  {
   "cell_type": "code",
   "execution_count": null,
   "id": "3062d608",
   "metadata": {},
   "outputs": [],
   "source": []
  }
 ],
 "metadata": {
  "kernelspec": {
   "display_name": "Python 3 (ipykernel)",
   "language": "python",
   "name": "python3"
  },
  "language_info": {
   "codemirror_mode": {
    "name": "ipython",
    "version": 3
   },
   "file_extension": ".py",
   "mimetype": "text/x-python",
   "name": "python",
   "nbconvert_exporter": "python",
   "pygments_lexer": "ipython3",
   "version": "3.9.7"
  }
 },
 "nbformat": 4,
 "nbformat_minor": 5
}
