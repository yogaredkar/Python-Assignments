{
 "cells": [
  {
   "cell_type": "code",
   "execution_count": null,
   "id": "d1912f4f",
   "metadata": {},
   "outputs": [],
   "source": [
    "\n",
    "1.Write a Python Program to Find LCM?\n"
   ]
  },
  {
   "cell_type": "code",
   "execution_count": 1,
   "id": "e7500542",
   "metadata": {},
   "outputs": [
    {
     "name": "stdout",
     "output_type": "stream",
     "text": [
      "The L.C.M. is 264\n"
     ]
    }
   ],
   "source": [
    "# Python Program to find the L.C.M. of two input number\n",
    "\n",
    "def compute_lcm(a, b):\n",
    "    if a > b:\n",
    "        greater = a\n",
    "    else:\n",
    "        greater = b\n",
    "\n",
    "    while(True):\n",
    "        if((greater % a == 0) and (greater % b == 0)):\n",
    "            lcm = greater\n",
    "            break\n",
    "        greater += 1\n",
    "\n",
    "    return lcm\n",
    "\n",
    "num1 = 44\n",
    "num2 = 24\n",
    "\n",
    "print(\"The L.C.M. is\", compute_lcm(num1, num2))"
   ]
  },
  {
   "cell_type": "code",
   "execution_count": null,
   "id": "f0157bc1",
   "metadata": {},
   "outputs": [],
   "source": [
    "2.Write a Python Program to Find HCF?\n"
   ]
  },
  {
   "cell_type": "code",
   "execution_count": 2,
   "id": "ca18c537",
   "metadata": {},
   "outputs": [
    {
     "name": "stdout",
     "output_type": "stream",
     "text": [
      "The H.C.F. is 4\n"
     ]
    }
   ],
   "source": [
    "def compute_hcf(a, b):\n",
    "    if a > b:\n",
    "        smaller = b\n",
    "    else:\n",
    "        smaller = a\n",
    "    for i in range(1, smaller+1):\n",
    "        if((a % i == 0) and (b % i == 0)):\n",
    "            hcf = i \n",
    "    return hcf\n",
    "\n",
    "num1 = 44 \n",
    "num2 = 24\n",
    "\n",
    "print(\"The H.C.F. is\", compute_hcf(num1, num2))\n"
   ]
  },
  {
   "cell_type": "code",
   "execution_count": null,
   "id": "7d81d5c1",
   "metadata": {},
   "outputs": [],
   "source": [
    "3.Write a Python Program to Convert Decimal to Binary, Octal and Hexadecimal?\n"
   ]
  },
  {
   "cell_type": "code",
   "execution_count": 3,
   "id": "365a35c1",
   "metadata": {},
   "outputs": [
    {
     "name": "stdout",
     "output_type": "stream",
     "text": [
      "The decimal value of 454 is:\n",
      "0b111000110 in binary.\n",
      "0o706 in octal.\n",
      "0x1c6 in hexadecimal.\n"
     ]
    }
   ],
   "source": [
    "dec = 454\n",
    "\n",
    "print(\"The decimal value of\", dec, \"is:\")\n",
    "print(bin(dec), \"in binary.\")\n",
    "print(oct(dec), \"in octal.\")\n",
    "print(hex(dec), \"in hexadecimal.\")"
   ]
  },
  {
   "cell_type": "code",
   "execution_count": null,
   "id": "43c7fcb2",
   "metadata": {},
   "outputs": [],
   "source": [
    "4.Write a Python Program To Find ASCII value of a character?\n"
   ]
  },
  {
   "cell_type": "code",
   "execution_count": 4,
   "id": "c7627700",
   "metadata": {},
   "outputs": [
    {
     "name": "stdout",
     "output_type": "stream",
     "text": [
      "The ASCII value of 'a' is 97\n"
     ]
    }
   ],
   "source": [
    "c = 'a'\n",
    "print(\"The ASCII value of '\" + c + \"' is\", ord(c))"
   ]
  },
  {
   "cell_type": "code",
   "execution_count": null,
   "id": "3e0177f0",
   "metadata": {},
   "outputs": [],
   "source": [
    "5.Write a Python Program to Make a Simple Calculator with 4 basic mathematical operations?\n"
   ]
  },
  {
   "cell_type": "code",
   "execution_count": 6,
   "id": "2fcdc399",
   "metadata": {},
   "outputs": [
    {
     "name": "stdout",
     "output_type": "stream",
     "text": [
      "Select operation.\n",
      "1.Add\n",
      "2.Subtract\n",
      "3.Multiply\n",
      "4.Divide\n",
      "Select the operation2\n",
      "First Number586\n",
      "Second Number65\n",
      "586 - 65 = 521\n"
     ]
    }
   ],
   "source": [
    "#This Function adds two numbers:\n",
    "\n",
    "def add(a, b):\n",
    "    return (a+b),\n",
    "    \n",
    "\n",
    "#This Function subtracts two numbers:\n",
    "\n",
    "def subtract(a, b):\n",
    "    return (a-b)\n",
    "\n",
    "#This Function multiply two numbers:\n",
    "\n",
    "def multiply(a, b):\n",
    "    return (a*b)\n",
    "\n",
    "# This Function divides two numbers:\n",
    "\n",
    "def divide (a, b):\n",
    "    return (a/b)\n",
    "\n",
    "print(\"Select operation.\")\n",
    "print(\"1.Add\")\n",
    "print(\"2.Subtract\")\n",
    "print(\"3.Multiply\")\n",
    "print(\"4.Divide\")\n",
    "\n",
    "N= int(input(\"Select the operation\"))\n",
    "num_1 =int(input(\"First Number\"))\n",
    "num_2 = int(input(\"Second Number\"))\n",
    "\n",
    "if N == 1:\n",
    "    print(num_1, \"+\", num_2, \"=\", add(num_1, num_2) )\n",
    "    \n",
    "elif N == 2:\n",
    "    print(num_1, \"-\", num_2, \"=\", subtract(num_1, num_2))\n",
    "\n",
    "elif N == 3:\n",
    "    print(num_1, \"*\", num_2, \"=\", multiply(num_1, num_2))\n",
    "    \n",
    "elif N ==4:\n",
    "    print((num_1, \"/\", num_2, \"=\", divide(num_1, num_2)))\n",
    "    \n",
    "else:\n",
    "    print(\"Invalid Input\")"
   ]
  },
  {
   "cell_type": "code",
   "execution_count": null,
   "id": "84d3b74d",
   "metadata": {},
   "outputs": [],
   "source": []
  }
 ],
 "metadata": {
  "kernelspec": {
   "display_name": "Python 3 (ipykernel)",
   "language": "python",
   "name": "python3"
  },
  "language_info": {
   "codemirror_mode": {
    "name": "ipython",
    "version": 3
   },
   "file_extension": ".py",
   "mimetype": "text/x-python",
   "name": "python",
   "nbconvert_exporter": "python",
   "pygments_lexer": "ipython3",
   "version": "3.9.7"
  }
 },
 "nbformat": 4,
 "nbformat_minor": 5
}
