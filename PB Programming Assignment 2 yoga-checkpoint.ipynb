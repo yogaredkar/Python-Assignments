{
 "cells": [
  {
   "cell_type": "code",
   "execution_count": null,
   "id": "71fd8f43",
   "metadata": {},
   "outputs": [],
   "source": [
    "1.\tWrite a Python program to convert kilometers to miles?\n",
    "i= int(input(\"please enter number of kilometers\"))# 1kilometer= 0.6 miles # miles = kilometers * 0.6\n",
    "print (i,\" Kilometers = \",i*0.6,\" Miles\")\n",
    "please enter number of kilometers15\n",
    "15  Kilometers =  9.0  Miles\n"
   ]
  },
  {
   "cell_type": "code",
   "execution_count": null,
   "id": "da6824c2",
   "metadata": {},
   "outputs": [],
   "source": [
    "2.\tWrite a Python program to convert Celsius to Fahrenheit?\n",
    "c= int(input(\"please enter number in Celsius\"))   # 0 celsius = 32 Fahrenheit, fahrenheit= (C*1.8)+32\n",
    "print(c, \"celsius=\", round ((c * 1.8)+32) , \"Fahrenheit\")\n",
    "please enter number in Celsius26\n",
    "26 celsius= 79 Fahrenheit\n"
   ]
  },
  {
   "cell_type": "code",
   "execution_count": null,
   "id": "074f9d31",
   "metadata": {},
   "outputs": [],
   "source": [
    "3.\tWrite a Python program to display calendar?\n",
    "# importing calendar module\n",
    "import calendar\n",
    "\n",
    "yy = 2022  # year\n",
    "mm = 11   # month\n",
    "\n",
    "# To take month and year input from the user\n",
    "# yy = int(input(\"Enter year: \"))\n",
    "# mm = int(input(\"Enter month: \"))\n",
    "\n",
    "# display the calendar\n",
    "print(calendar.month(yy, mm))\n",
    "   November 2022\n",
    "Mo Tu We Th Fr Sa Su\n",
    "    1  2  3  4  5  6\n",
    " 7  8  9 10 11 12 13\n",
    "14 15 16 17 18 19 20\n",
    "21 22 23 24 25 26 27\n",
    "28 29 30\n",
    "\n"
   ]
  },
  {
   "cell_type": "code",
   "execution_count": null,
   "id": "eb79831f",
   "metadata": {},
   "outputs": [],
   "source": [
    "4.\tWrite a Python program to solve quadratic equation?\n",
    "#ax2 + bx + c = 0, where a, b and c are real numbers and a ≠ 0\n",
    "import cmath\n",
    "\n",
    "a = 1\n",
    "b = 5\n",
    "c = 6\n",
    "\n",
    "# calculate the discriminant\n",
    "d = (b**2) - (4*a*c)\n",
    "\n",
    "# find two solutions\n",
    "sol1 = (-b-cmath.sqrt(d))/(2*a)\n",
    "sol2 = (-b+cmath.sqrt(d))/(2*a)\n",
    "\n",
    "print('The solution are {0} and {1}'.format(sol1,sol2))\n",
    "The solution are (-3+0j) and (-2+0j)\n"
   ]
  },
  {
   "cell_type": "code",
   "execution_count": null,
   "id": "6ce5d344",
   "metadata": {},
   "outputs": [],
   "source": [
    "5.\tWrite a Python program to swap two variables without temp variable?\n",
    "x = 10\n",
    "y = 5\n",
    " \n",
    "# Code to swap 'x' and 'y'\n",
    " \n",
    "# x now becomes 15\n",
    "x = x + y\n",
    " \n",
    "# y becomes 10\n",
    "y = x - y\n",
    " \n",
    "# x becomes 5\n",
    "x = x - y\n",
    "print(\"After Swapping: x =\", x, \" y =\", y)\n",
    " \n",
    "After Swapping: x = 5  y = 10\n",
    " "
   ]
  }
 ],
 "metadata": {
  "kernelspec": {
   "display_name": "Python 3 (ipykernel)",
   "language": "python",
   "name": "python3"
  },
  "language_info": {
   "codemirror_mode": {
    "name": "ipython",
    "version": 3
   },
   "file_extension": ".py",
   "mimetype": "text/x-python",
   "name": "python",
   "nbconvert_exporter": "python",
   "pygments_lexer": "ipython3",
   "version": "3.9.7"
  }
 },
 "nbformat": 4,
 "nbformat_minor": 5
}
