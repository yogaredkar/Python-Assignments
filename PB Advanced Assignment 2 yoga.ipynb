{
 "cells": [
  {
   "cell_type": "code",
   "execution_count": null,
   "id": "2f4410e5",
   "metadata": {},
   "outputs": [],
   "source": [
    "Q1. What is the relationship between classes and modules?\n",
    "Ans- A Python module is a file containing Python definitions and statements. \n",
    "A module can define functions, classes, and variables. A module can also include runnable code. Grouping related code into a module makes the code easier to understand and use. \n",
    "It also makes the code logically organized.\n",
    "\n",
    "a class is used to define a blueprint for a given object, whereas a module is used to reuse a given piece of code inside another program.\n"
   ]
  },
  {
   "cell_type": "code",
   "execution_count": null,
   "id": "f1dd61a0",
   "metadata": {},
   "outputs": [],
   "source": [
    "Q2. How do you make instances and classes?\n",
    "Ans- Use the class name to create a new instance\n",
    "\n",
    "Call ClassName() to create a new instance of the class ClassName .\n",
    "To pass parameters to the class instance, the class must have an __init__() method.\n",
    "Pass the parameters in the constructor of the class.\n"
   ]
  },
  {
   "cell_type": "code",
   "execution_count": null,
   "id": "872c338f",
   "metadata": {},
   "outputs": [],
   "source": [
    "Q3. Where and how should be class attributes created?\n",
    "Ans- Class attributes are attributes which are owned by the class itself. \n",
    "They will be shared by all the instances of the class. Therefore they have the same value for every instance. \n",
    "We define class attributes outside all the methods, usually they are placed at the top, right below the class header.\n"
   ]
  },
  {
   "cell_type": "code",
   "execution_count": null,
   "id": "ad273d3b",
   "metadata": {},
   "outputs": [],
   "source": [
    "Q4. Where and how are instance attributes created?\n",
    "Ans- An instance attribute is a Python variable belonging to only one object. \n",
    "It is only accessible in the scope of the object and it is defined inside the constructor function of a class. \n",
    "For example, __init__(self,..).\n"
   ]
  },
  {
   "cell_type": "code",
   "execution_count": null,
   "id": "810a583e",
   "metadata": {},
   "outputs": [],
   "source": [
    "Q5. What does the term \"self\" in a Python class mean?\n",
    "Ans- self represents the instance of the class. By using the “self” keyword we can access the attributes and methods of the class in python.\n",
    "It binds the attributes with the given arguments.\n"
   ]
  },
  {
   "cell_type": "code",
   "execution_count": null,
   "id": "6bb52b67",
   "metadata": {},
   "outputs": [],
   "source": [
    "Q6. How does a Python class handle operator overloading?\n",
    "Ans- The operator overloading in Python means provide extended meaning beyond their predefined operational meaning. \n",
    "Such as, we use the \"+\" operator for adding two integers as well as joining two strings or merging two lists.\n",
    "We can achieve this as the \"+\" operator is overloaded by the \"int\" class and \"str\" class.\n"
   ]
  },
  {
   "cell_type": "code",
   "execution_count": null,
   "id": "d2c50aad",
   "metadata": {},
   "outputs": [],
   "source": [
    "Q7. When do you consider allowing operator overloading of your classes?\n",
    "Ans- Consider that we have two objects which are a physical representation of a class (user-defined data type) and we have to add two objects with binary '+' operator it throws an error, because compiler don't know how to add two objects.\n",
    "So we define a method for an operator and that process is called operator overloading.\n",
    "m in Python allows us to define methods in the child class with the same name as defined in their parent class.\n",
    " "
   ]
  },
  {
   "cell_type": "code",
   "execution_count": null,
   "id": "7441b645",
   "metadata": {},
   "outputs": [],
   "source": [
    "Q8. What is the most popular form of operator overloading?\n",
    "Ans- A very popular and convenient example is the Addition (+) operator.\n",
    "Just think how the '+' operator operates on two numbers and the same operator operates on two strings. \n",
    "It performs “Addition” on numbers whereas it performs “Concatenation” on strings.\n"
   ]
  },
  {
   "cell_type": "code",
   "execution_count": null,
   "id": "d5835baf",
   "metadata": {},
   "outputs": [],
   "source": [
    "Q9. What are the two most important concepts to grasp in order to comprehend Python OOP code?\n",
    "Ans- Inheritance- Inheritance is the capability of one class to derive or inherit the properties from another class.\n",
    "The class that derives properties is called the derived class or child class and the class from which the properties are being derived is called the base class or parent class.\n",
    "Polymorphism- Polymorphism defines the ability to take different forms. \n",
    "Polymorphis"
   ]
  }
 ],
 "metadata": {
  "kernelspec": {
   "display_name": "Python 3 (ipykernel)",
   "language": "python",
   "name": "python3"
  },
  "language_info": {
   "codemirror_mode": {
    "name": "ipython",
    "version": 3
   },
   "file_extension": ".py",
   "mimetype": "text/x-python",
   "name": "python",
   "nbconvert_exporter": "python",
   "pygments_lexer": "ipython3",
   "version": "3.9.7"
  }
 },
 "nbformat": 4,
 "nbformat_minor": 5
}
