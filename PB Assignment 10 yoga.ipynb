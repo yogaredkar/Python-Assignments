{
 "cells": [
  {
   "cell_type": "code",
   "execution_count": null,
   "id": "f4aeb360",
   "metadata": {},
   "outputs": [],
   "source": [
    "1. How do you distinguish between shutil.copy() and shutil.copytree()?\n",
    "Ans- \"shutil.copy()\" will copy a single file, whereas \"shutil.copytree()\" will copy an entire folder and every folder and file contained in it. \n",
    "  Calling \"shutil.copytree(source, destination)\" will copy the folder at the path source, \n",
    "  along with all of its files and subfolders, to the folder at the path destination. "
   ]
  },
  {
   "cell_type": "code",
   "execution_count": null,
   "id": "c43c5316",
   "metadata": {},
   "outputs": [],
   "source": [
    "2. What function is used to rename files??\n",
    "Ans- \"rename()\" function is used to change the name of the file or directory i.e. from old_name to new_name \n",
    "   without changing the content present in the file. This function takes name of the file as its argument."
   ]
  },
  {
   "cell_type": "code",
   "execution_count": null,
   "id": "db787940",
   "metadata": {},
   "outputs": [],
   "source": [
    "3. What is the difference between the delete functions in the send2trash and shutil modules?\n",
    "Ans- The \"send2trash\" functions will move a file or folder to the recycle bin, while \n",
    " \"shutil functions\" will permanently delete files and folders"
   ]
  },
  {
   "cell_type": "code",
   "execution_count": null,
   "id": "62c1b941",
   "metadata": {},
   "outputs": [],
   "source": [
    "4.ZipFile objects have a close() method just like File objects’ close() method. What ZipFile method is\n",
    "equivalent to File objects’ open() method?\n",
    "Ans- ZipFile() method is equivalent to File object's open() method.\n",
    "\n",
    "# importing required modules\n",
    "from zipfile import ZipFile\n",
    "  \n",
    "# specifying the zip file name\n",
    "file_name = r\"C:\\Users\\Acer\\Downloads\\temp_new.zip\"\n",
    "  \n",
    "# opening the zip file in READ mode\n",
    "zip=ZipFile(file_name,'r')\n",
    "zip.printdir()"
   ]
  },
  {
   "cell_type": "code",
   "execution_count": null,
   "id": "8503e4a8",
   "metadata": {},
   "outputs": [],
   "source": [
    "5. Create a programme that searches a folder tree for files with a certain file extension (such as .pdf\n",
    "or .jpg). Copy these files from whatever location they are in to a new folder.\n",
    "Ans- def Copyfiles(folder,destination):\n",
    "    \"\"\"Provide source folder and destination folder to copy pdf files\"\"\"\n",
    "    import os,shutil\n",
    "    for folderName, subfolders, filenames in os.walk(folder):\n",
    "        for filename in filenames:\n",
    "            if filename.endswith('.pdf'):\n",
    "                shutil.copy(os.path.join(folderName, filename), os.path.join(destination,filename))\n",
    " \n",
    "\n",
    "Copyfiles(\"D:\\AJ\",r\"D:\\temp\")"
   ]
  },
  {
   "cell_type": "code",
   "execution_count": null,
   "id": "c63c91fb",
   "metadata": {},
   "outputs": [],
   "source": []
  }
 ],
 "metadata": {
  "kernelspec": {
   "display_name": "Python 3 (ipykernel)",
   "language": "python",
   "name": "python3"
  },
  "language_info": {
   "codemirror_mode": {
    "name": "ipython",
    "version": 3
   },
   "file_extension": ".py",
   "mimetype": "text/x-python",
   "name": "python",
   "nbconvert_exporter": "python",
   "pygments_lexer": "ipython3",
   "version": "3.9.7"
  }
 },
 "nbformat": 4,
 "nbformat_minor": 5
}
