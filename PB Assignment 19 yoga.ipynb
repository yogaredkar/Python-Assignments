{
 "cells": [
  {
   "cell_type": "code",
   "execution_count": null,
   "id": "2c69bdfb",
   "metadata": {},
   "outputs": [],
   "source": [
    "1. Make a class called Thing with no contents and print it. Then, create an object called example\n",
    "from this class and also print it. Are the printed values the same or different?"
   ]
  },
  {
   "cell_type": "code",
   "execution_count": 1,
   "id": "1f5167e7",
   "metadata": {},
   "outputs": [
    {
     "name": "stdout",
     "output_type": "stream",
     "text": [
      "<class '__main__.Thing'>\n",
      "<class '__main__.Thing'>\n"
     ]
    }
   ],
   "source": [
    "#Both are giving the same output.\n",
    "#class Thing with no contents:\n",
    "class Thing:\n",
    "    pass\n",
    "\n",
    "print(Thing)\n",
    "\n",
    "#creating object of a class\n",
    "example=Thing\n",
    "print(example)"
   ]
  },
  {
   "cell_type": "code",
   "execution_count": null,
   "id": "893b1249",
   "metadata": {},
   "outputs": [],
   "source": [
    "2. Create a new class called Thing2 and add the value 'abc' to the letters class attribute. Letters should be printed.\n"
   ]
  },
  {
   "cell_type": "code",
   "execution_count": 2,
   "id": "b4d45b7f",
   "metadata": {},
   "outputs": [
    {
     "name": "stdout",
     "output_type": "stream",
     "text": [
      "abc\n"
     ]
    }
   ],
   "source": [
    "#Creating a new class called Thing2\n",
    "class Thing2:\n",
    "    Letters='abc'\n",
    "    \n",
    "print(Thing2.Letters)"
   ]
  },
  {
   "cell_type": "code",
   "execution_count": null,
   "id": "9dc38dea",
   "metadata": {},
   "outputs": [],
   "source": [
    "3. Make yet another class called, of course, Thing3. This time, assign the value 'xyz' to an instance (object) attribute called letters. Print letters. Do you need to make an object from the class to do this?\n"
   ]
  },
  {
   "cell_type": "code",
   "execution_count": 3,
   "id": "1b28df1e",
   "metadata": {},
   "outputs": [
    {
     "data": {
      "text/plain": [
       "'xyz'"
      ]
     },
     "execution_count": 3,
     "metadata": {},
     "output_type": "execute_result"
    }
   ],
   "source": [
    "#Yes, we need to make an object to assign value 'xyz' to an instance attribute.\n",
    "class Thing3:\n",
    "    def __init__(self,letters):\n",
    "        self.letters=letters\n",
    "\n",
    "l=Thing3('xyz')\n",
    "l.letters"
   ]
  },
  {
   "cell_type": "code",
   "execution_count": null,
   "id": "2c2eef30",
   "metadata": {},
   "outputs": [],
   "source": [
    "4. Create an Element class with the instance attributes name, symbol, and number. Create a class object with the values 'Hydrogen,' 'H,' and 1.\n"
   ]
  },
  {
   "cell_type": "code",
   "execution_count": 4,
   "id": "91fd5ba2",
   "metadata": {},
   "outputs": [
    {
     "name": "stdout",
     "output_type": "stream",
     "text": [
      "name:  Hydrogen\n",
      "symbol:  H\n",
      "number:  1\n"
     ]
    }
   ],
   "source": [
    "#Step 1 Creating a class name 'Element':\n",
    "class Element:\n",
    "    def __init__(self,name,symbol,number):\n",
    "        self.name=name\n",
    "        self.symbol=symbol\n",
    "        self.number=number\n",
    "        \n",
    "#Step 2 Creating class object:\n",
    "\n",
    "el=Element('Hydrogen', 'H', 1)\n",
    "\n",
    "#Step 3 Printing elements value:\n",
    "print('name: ',el.name)\n",
    "print('symbol: ',el.symbol)\n",
    "print('number: ',el.number)"
   ]
  },
  {
   "cell_type": "code",
   "execution_count": null,
   "id": "200c6893",
   "metadata": {},
   "outputs": [],
   "source": [
    "5. Make a dictionary with these keys and values: 'name': 'Hydrogen', 'symbol': 'H', 'number': 1. \n",
    "Then, create an object called hydrogen from class Element using this dictionary."
   ]
  },
  {
   "cell_type": "code",
   "execution_count": 5,
   "id": "2dda79c4",
   "metadata": {},
   "outputs": [
    {
     "name": "stdout",
     "output_type": "stream",
     "text": [
      "Hydrogen\n",
      "H\n",
      "1\n"
     ]
    }
   ],
   "source": [
    "#creating dictionary 'd'\n",
    "d={'name': 'Hydrogen', 'symbol': 'H', 'number': 1}\n",
    "\n",
    "#creating object:\n",
    "hydrogen=Element(*d.values())\n",
    "\n",
    "#printing hydrogen object values.\n",
    "print(hydrogen.name)\n",
    "print(hydrogen.symbol)\n",
    "print(hydrogen.number)"
   ]
  },
  {
   "cell_type": "code",
   "execution_count": null,
   "id": "3a0e6712",
   "metadata": {},
   "outputs": [],
   "source": [
    "6. For the Element class, define a method called dump() that prints the values of the object’s\n",
    "attributes (name, symbol, and number). Create the hydrogen object from this new definition and\n",
    "use dump() to print its attributes.\n"
   ]
  },
  {
   "cell_type": "code",
   "execution_count": 6,
   "id": "bc9ff13a",
   "metadata": {},
   "outputs": [
    {
     "name": "stdout",
     "output_type": "stream",
     "text": [
      "Hydrogen\n",
      "H\n",
      "1\n"
     ]
    }
   ],
   "source": [
    "#Step 1 Creating a class name 'Element':\n",
    "class Element:\n",
    "    def __init__(self,name,symbol,number):\n",
    "        self.name=name\n",
    "        self.symbol=symbol\n",
    "        self.number=number\n",
    "        \n",
    "    def dump(self):\n",
    "        print(self.name)\n",
    "        print(self.symbol)\n",
    "        print(self.number)\n",
    "        \n",
    "#Step 2 create hydrogen object:\n",
    "hydrogen=Element('Hydrogen', 'H', 1)\n",
    "\n",
    "#Step 3 use dump() method to print hydrogen values:\n",
    "hydrogen.dump()\n"
   ]
  },
  {
   "cell_type": "code",
   "execution_count": null,
   "id": "8af46a44",
   "metadata": {},
   "outputs": [],
   "source": [
    "7. Call print(hydrogen). In the definition of Element, change the name of method dump to __str__,\n",
    "create a new hydrogen object, and call print(hydrogen) again.\n"
   ]
  },
  {
   "cell_type": "code",
   "execution_count": 8,
   "id": "ff928df4",
   "metadata": {},
   "outputs": [
    {
     "name": "stdout",
     "output_type": "stream",
     "text": [
      "<__main__.Element object at 0x000001C315DF6040>\n",
      "<__main__.Element object at 0x000001C315D781F0>\n"
     ]
    }
   ],
   "source": [
    "# 1. Print hydrogen\n",
    "print(hydrogen)\n",
    "\n",
    "# 2.change method dump to str\n",
    "class Element:\n",
    "    def __init__(self,name,symbol,number):\n",
    "        self.name=name\n",
    "        self.symbol=symbol\n",
    "        self.number=number\n",
    "        \n",
    "    def str(self):\n",
    "        print(self.name)\n",
    "        print(self.symbol)\n",
    "        print(self.number)\n",
    "        \n",
    "# 3. create object:\n",
    "hydrogen=Element('Hydrogen', 'H', 1)\n",
    "\n",
    "# 4. print hydrogen\n",
    "print(hydrogen)"
   ]
  },
  {
   "cell_type": "code",
   "execution_count": null,
   "id": "a2d160db",
   "metadata": {},
   "outputs": [],
   "source": [
    "8. Modify Element to make the attributes name, symbol, and number private. Define a getter\n",
    "property for each to return its value.\n"
   ]
  },
  {
   "cell_type": "code",
   "execution_count": 9,
   "id": "2ca789eb",
   "metadata": {},
   "outputs": [
    {
     "name": "stdout",
     "output_type": "stream",
     "text": [
      "Hydrogen\n",
      "H\n",
      "1\n"
     ]
    }
   ],
   "source": [
    "class Element:\n",
    "    def __init__(self,name,symbol,number):\n",
    "        self._name=name\n",
    "        self._symbol=symbol\n",
    "        self._number=number\n",
    "        \n",
    "    @property\n",
    "    def name(self):\n",
    "        return self._name\n",
    "    \n",
    "#     setter\n",
    "    @name.setter\n",
    "    def name(self,a):\n",
    "        self._name=a\n",
    "\n",
    "    @property\n",
    "    def symbol(self):\n",
    "        return self._symbol\n",
    "    \n",
    "#     setter    \n",
    "    @symbol.setter\n",
    "    def symbol(self,a):\n",
    "        self._symbol=a\n",
    "        \n",
    "    @property\n",
    "    def number(self):\n",
    "        return self._number\n",
    "    \n",
    "#     setter    \n",
    "    @number.setter\n",
    "    def number(self,a):\n",
    "        self._number=a\n",
    "        \n",
    "# 2. create object:\n",
    "hydrogen=Element('Hydrogen', 'H', 1)\n",
    "\n",
    "# 3. Get values.\n",
    "print(hydrogen.name)\n",
    "print(hydrogen.symbol)\n",
    "print(hydrogen.number)"
   ]
  },
  {
   "cell_type": "code",
   "execution_count": null,
   "id": "aac466d8",
   "metadata": {},
   "outputs": [],
   "source": [
    "9. Define three classes: Bear, Rabbit, and Octothorpe. For each, define only one method: eats(). \n",
    "This should return 'berries' (Bear), 'clover' (Rabbit), or 'campers' (Octothorpe). Create one object from each and print what it eats.\n"
   ]
  },
  {
   "cell_type": "code",
   "execution_count": 10,
   "id": "692f85d2",
   "metadata": {},
   "outputs": [
    {
     "name": "stdout",
     "output_type": "stream",
     "text": [
      "berries\n",
      "clover\n",
      "campers\n"
     ]
    }
   ],
   "source": [
    "class Bear:\n",
    "    def eats(self):\n",
    "        return 'berries'\n",
    "    \n",
    "class Rabbit:\n",
    "    def eats(self):\n",
    "        return 'clover'\n",
    "    \n",
    "class Octothorpe:\n",
    "    def eats(self):\n",
    "        return 'campers'\n",
    "    \n",
    "\n",
    "Bear=Bear()\n",
    "print(Bear.eats())\n",
    "\n",
    "Rabbit=Rabbit()\n",
    "print(Rabbit.eats())\n",
    "\n",
    "Octothorpe=Octothorpe()\n",
    "print(Octothorpe.eats())"
   ]
  },
  {
   "cell_type": "code",
   "execution_count": null,
   "id": "330cb82a",
   "metadata": {},
   "outputs": [],
   "source": [
    "10.  Define these classes: Laser, Claw, and SmartPhone. Each has only one method: does(). \n",
    "This returns 'disintegrate' (Laser), 'crush' (Claw), or 'ring' (SmartPhone). Then, define the class Robot that has one instance (object) of each of these. Define a does() method for the Robot that prints what its component objects do.\n"
   ]
  },
  {
   "cell_type": "code",
   "execution_count": 11,
   "id": "4da472e9",
   "metadata": {},
   "outputs": [
    {
     "name": "stdout",
     "output_type": "stream",
     "text": [
      "Laser:  disintegrate\n",
      "Claw:  crush\n",
      "SmartPhone:  ring\n"
     ]
    }
   ],
   "source": [
    "class Laser:\n",
    "    def does(self):\n",
    "        return 'disintegrate'\n",
    "    \n",
    "class Claw:\n",
    "    def does(self):\n",
    "        return 'crush'\n",
    "    \n",
    "class SmartPhone:\n",
    "    def does(self):\n",
    "        return 'ring'\n",
    "    \n",
    "class Robot(Laser,Claw,SmartPhone):\n",
    "    def __init__(self):\n",
    "        Laser.__init__(self)\n",
    "        Claw.__init__(self)\n",
    "        SmartPhone.__init__(self)\n",
    "    \n",
    "    def does(self):\n",
    "        print('Laser: ',Laser.does(self))\n",
    "        print('Claw: ',Claw.does(self))\n",
    "        print('SmartPhone: ',SmartPhone.does(self))\n",
    "\n",
    "rb=Robot()\n",
    "rb.does()"
   ]
  },
  {
   "cell_type": "code",
   "execution_count": null,
   "id": "36c3ed49",
   "metadata": {},
   "outputs": [],
   "source": []
  },
  {
   "cell_type": "code",
   "execution_count": null,
   "id": "70162a16",
   "metadata": {},
   "outputs": [],
   "source": []
  }
 ],
 "metadata": {
  "kernelspec": {
   "display_name": "Python 3 (ipykernel)",
   "language": "python",
   "name": "python3"
  },
  "language_info": {
   "codemirror_mode": {
    "name": "ipython",
    "version": 3
   },
   "file_extension": ".py",
   "mimetype": "text/x-python",
   "name": "python",
   "nbconvert_exporter": "python",
   "pygments_lexer": "ipython3",
   "version": "3.9.7"
  }
 },
 "nbformat": 4,
 "nbformat_minor": 5
}
